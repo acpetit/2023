{
 "cells": [
  {
   "cell_type": "code",
   "execution_count": 1,
   "metadata": {},
   "outputs": [],
   "source": [
    "from string import digits\n",
    "from dataclasses import dataclass\n",
    "import enum\n",
    "import typing\n",
    "from collections import Counter\n",
    "\n",
    "import re\n",
    "\n",
    "# from functools import total_ordering\n"
   ]
  },
  {
   "cell_type": "code",
   "execution_count": 41,
   "metadata": {},
   "outputs": [],
   "source": [
    "with open(\"input8.txt\") as f:\n",
    "    instructions = f.readline().rstrip()\n",
    "    f.readline()\n",
    "    nodes ={}\n",
    "    for line in f:\n",
    "        node = re.match(\"(...) = \\((...), (...)\\)\\n\",line)\n",
    "        nodes[node.group(1)] = (node.group(2),node.group(3))"
   ]
  },
  {
   "attachments": {},
   "cell_type": "markdown",
   "metadata": {},
   "source": [
    "# Part 1"
   ]
  },
  {
   "cell_type": "code",
   "execution_count": 42,
   "metadata": {},
   "outputs": [],
   "source": [
    "def follow_instructions(instructions,nodes):\n",
    "    curnode= \"AAA\"\n",
    "    leninst = len(instructions)\n",
    "    nsteps = 0\n",
    "    while curnode != \"ZZZ\":\n",
    "        if instructions[nsteps%leninst]==\"L\": curnode = nodes[curnode][0]\n",
    "        else: curnode = nodes[curnode][1]\n",
    "        nsteps+=1\n",
    "    return nsteps"
   ]
  },
  {
   "cell_type": "code",
   "execution_count": 43,
   "metadata": {},
   "outputs": [
    {
     "data": {
      "text/plain": [
       "13207"
      ]
     },
     "execution_count": 43,
     "metadata": {},
     "output_type": "execute_result"
    }
   ],
   "source": [
    "follow_instructions(instructions,nodes)\n"
   ]
  },
  {
   "cell_type": "markdown",
   "metadata": {},
   "source": [
    "# Part 2"
   ]
  },
  {
   "cell_type": "code",
   "execution_count": 46,
   "metadata": {},
   "outputs": [],
   "source": [
    "nodesthatendswithA = [n for n in nodes.keys() if n[-1]==\"A\"]\n",
    "\n",
    "def findcycle(node,instructions,nodes):\n",
    "    curnode = node\n",
    "    leninst = len(instructions)\n",
    "\n",
    "    nsteps = 0\n",
    "    visited = {}\n",
    "\n",
    "    while  ((key:=(curnode,nsteps%leninst)) not in visited.keys()):\n",
    "        visited[key] = nsteps\n",
    "        if instructions[nsteps%leninst]==\"L\": curnode = nodes[curnode][0]\n",
    "        else: curnode = nodes[curnode][1]\n",
    "        nsteps+=1\n",
    "    # print(curnode,nsteps%leninst,nsteps)\n",
    "    # print(key,key in )\n",
    "    summary = {\"start of cycle\": curnode,\n",
    "                \"cycle first step\": nsteps%leninst,#visited[key],\n",
    "                \"length of cycle\":nsteps-nsteps%leninst,\n",
    "                \"exit position\": [k for (n,kmod),k in visited.items() if n[-1]==\"Z\"][0]}\n",
    "    return summary,visited\n",
    "        \n",
    "    "
   ]
  },
  {
   "cell_type": "code",
   "execution_count": 47,
   "metadata": {},
   "outputs": [],
   "source": [
    "cycles = {n:findcycle(n,instructions,nodes) for n in nodesthatendswithA}"
   ]
  },
  {
   "cell_type": "code",
   "execution_count": 48,
   "metadata": {},
   "outputs": [
    {
     "data": {
      "text/plain": [
       "[{'start of cycle': 'DSH',\n",
       "  'cycle first step': 2,\n",
       "  'length of cycle': 13207,\n",
       "  'exit position': 13207},\n",
       " {'start of cycle': 'LMM',\n",
       "  'cycle first step': 2,\n",
       "  'length of cycle': 19951,\n",
       "  'exit position': 19951},\n",
       " {'start of cycle': 'XLT',\n",
       "  'cycle first step': 2,\n",
       "  'length of cycle': 14893,\n",
       "  'exit position': 14893},\n",
       " {'start of cycle': 'GNM',\n",
       "  'cycle first step': 4,\n",
       "  'length of cycle': 12083,\n",
       "  'exit position': 12083},\n",
       " {'start of cycle': 'VHT',\n",
       "  'cycle first step': 2,\n",
       "  'length of cycle': 20513,\n",
       "  'exit position': 20513},\n",
       " {'start of cycle': 'VLL',\n",
       "  'cycle first step': 2,\n",
       "  'length of cycle': 22199,\n",
       "  'exit position': 22199}]"
      ]
     },
     "execution_count": 48,
     "metadata": {},
     "output_type": "execute_result"
    }
   ],
   "source": [
    "summarystats = [summary for summary,_ in cycles.values()]\n",
    "summarystats"
   ]
  },
  {
   "cell_type": "markdown",
   "metadata": {},
   "source": [
    "The Z word is always the last in the loop so we just take the lcm as the answer"
   ]
  },
  {
   "cell_type": "code",
   "execution_count": 52,
   "metadata": {},
   "outputs": [
    {
     "name": "stdout",
     "output_type": "stream",
     "text": [
      "12324145107121\n"
     ]
    }
   ],
   "source": [
    "from math import lcm\n",
    "\n",
    "print(minimumcycle := lcm(*[c['length of cycle'] for c in summarystats]))\n"
   ]
  }
 ],
 "metadata": {
  "kernelspec": {
   "display_name": "Python 3.11.0",
   "language": "python",
   "name": "python3"
  },
  "language_info": {
   "codemirror_mode": {
    "name": "ipython",
    "version": 3
   },
   "file_extension": ".py",
   "mimetype": "text/x-python",
   "name": "python",
   "nbconvert_exporter": "python",
   "pygments_lexer": "ipython3",
   "version": "3.11.3"
  },
  "vscode": {
   "interpreter": {
    "hash": "40ccaff05b52072d4f8eabac3df5900fe0a79a9a98d891785a410914ef6bf60b"
   }
  }
 },
 "nbformat": 4,
 "nbformat_minor": 2
}
