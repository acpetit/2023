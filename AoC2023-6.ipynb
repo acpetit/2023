{
 "cells": [
  {
   "cell_type": "code",
   "execution_count": 20,
   "metadata": {},
   "outputs": [],
   "source": [
    "import re\n",
    "import pandas as pd\n",
    "import numpy as np"
   ]
  },
  {
   "cell_type": "code",
   "execution_count": null,
   "metadata": {},
   "outputs": [],
   "source": [
    "races= pd.read_csv(\"input6.txt\",sep='\\s+|:\\s+',header=None,index_col=0).T"
   ]
  },
  {
   "cell_type": "markdown",
   "metadata": {},
   "source": [
    "For a given charge time $C$, the boat goes to distance $C(T-C)$\n",
    "The smallest and largest charges (real number) such that the record is beaten are thus solution to the polynomial equation $$C^2-TC+D=0.$$\n",
    "\n",
    "The interval length in real number would be $\\sqrt{T^2-4D}$ but because of rounding to integers one needs to compute both smallest and largest integer solutions which $$ C_\\pm= \\frac{T\\pm \\sqrt{T^2-4D}}{2} ,$$ taking the respectively superior and inferior integer part and compute the interval as $$\\lfloor C_+\\rfloor-\\lceil C_-\\rceil +1.$$\n"
   ]
  },
  {
   "attachments": {},
   "cell_type": "markdown",
   "metadata": {},
   "source": [
    "# Part 1"
   ]
  },
  {
   "cell_type": "code",
   "execution_count": 26,
   "metadata": {},
   "outputs": [
    {
     "data": {
      "text/plain": [
       "449550"
      ]
     },
     "execution_count": 26,
     "metadata": {},
     "output_type": "execute_result"
    }
   ],
   "source": [
    "races[\"Delta\"] = races.Time**2-4*races.Distance\n",
    "races[\"lsol\"] = np.ceil((races.Time-races.Delta**.5)/2).astype(int)\n",
    "races[\"hsol\"] = np.floor((races.Time+races.Delta**.5)/2).astype(int)\n",
    "races[\"nsol\"] = races.hsol-races.lsol+1\n",
    "races.nsol.prod()\n"
   ]
  },
  {
   "cell_type": "markdown",
   "metadata": {},
   "source": [
    "# Part 2"
   ]
  },
  {
   "cell_type": "code",
   "execution_count": 51,
   "metadata": {},
   "outputs": [
    {
     "name": "stdout",
     "output_type": "stream",
     "text": [
      "28360140\n"
     ]
    }
   ],
   "source": [
    "with open(\"input6.txt\") as f:\n",
    "    time = int(re.sub(\"\\D\",\"\",f.readline()))\n",
    "    dist = int(re.sub(\"\\D\",\"\",f.readline()))\n",
    "delta = time**2-4*dist\n",
    "cm = int(np.ceil((time-delta**.5)/2))\n",
    "cpplus1 = int(np.ceil((time+delta**.5)/2))\n",
    "\n",
    "print(cpplus1-cm)"
   ]
  }
 ],
 "metadata": {
  "kernelspec": {
   "display_name": "Python 3.11.0",
   "language": "python",
   "name": "python3"
  },
  "language_info": {
   "codemirror_mode": {
    "name": "ipython",
    "version": 3
   },
   "file_extension": ".py",
   "mimetype": "text/x-python",
   "name": "python",
   "nbconvert_exporter": "python",
   "pygments_lexer": "ipython3",
   "version": "3.11.3"
  },
  "vscode": {
   "interpreter": {
    "hash": "40ccaff05b52072d4f8eabac3df5900fe0a79a9a98d891785a410914ef6bf60b"
   }
  }
 },
 "nbformat": 4,
 "nbformat_minor": 2
}
