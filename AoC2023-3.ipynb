{
 "cells": [
  {
   "cell_type": "code",
   "execution_count": 134,
   "metadata": {},
   "outputs": [],
   "source": [
    "import re,string"
   ]
  },
  {
   "cell_type": "code",
   "execution_count": 135,
   "metadata": {},
   "outputs": [],
   "source": [
    "with open(\"input3.txt\") as f:\n",
    "    machineplan = f.read().splitlines()"
   ]
  },
  {
   "attachments": {},
   "cell_type": "markdown",
   "metadata": {},
   "source": [
    "# Part 1"
   ]
  },
  {
   "cell_type": "code",
   "execution_count": 136,
   "metadata": {},
   "outputs": [],
   "source": [
    "def iterovernumbers(line):\n",
    "    p = re.compile('[0-9]+')\n",
    "    for number in p.finditer(line):\n",
    "        yield number\n",
    "\n",
    "def ismachinepart(number,i,machineplan):\n",
    "    N,M = len(machineplan),len(machineplan[0])\n",
    "    jslice = slice(max(0,number.start()-1),min(M,number.end()+1))\n",
    "    for ki in range(max(0,i-1),min(i+2,N)):\n",
    "            for c in machineplan[ki][jslice]:\n",
    "                if c not in \".\"+string.digits:\n",
    "                    return True\n",
    "    else:\n",
    "         False"
   ]
  },
  {
   "cell_type": "code",
   "execution_count": 137,
   "metadata": {},
   "outputs": [
    {
     "data": {
      "text/plain": [
       "538046"
      ]
     },
     "execution_count": 137,
     "metadata": {},
     "output_type": "execute_result"
    }
   ],
   "source": [
    "sumpart = 0 \n",
    "\n",
    "for i,line in enumerate(machineplan):\n",
    "    for number in iterovernumbers(line):\n",
    "        if ismachinepart(number,i,machineplan):\n",
    "            sumpart+=int(number.group())\n",
    "\n",
    "sumpart"
   ]
  },
  {
   "cell_type": "markdown",
   "metadata": {},
   "source": [
    "# Part 2"
   ]
  },
  {
   "cell_type": "code",
   "execution_count": 138,
   "metadata": {},
   "outputs": [],
   "source": [
    "def findgearratio(i,j,machineplan):\n",
    "    N = len(machineplan)\n",
    "    adjacentnumbers = []\n",
    "    for ki in range(max(0,i-1),min(i+2,N)):\n",
    "        for number in iterovernumbers(machineplan[ki]):\n",
    "            if (number.end()>=j) and (number.start()<=j+1):\n",
    "                adjacentnumbers.append(int(number.group()))\n",
    "    if len(adjacentnumbers)==2:\n",
    "        return adjacentnumbers[0]*adjacentnumbers[1]\n",
    "    else: return 0"
   ]
  },
  {
   "cell_type": "code",
   "execution_count": 139,
   "metadata": {},
   "outputs": [
    {
     "data": {
      "text/plain": [
       "81709807"
      ]
     },
     "execution_count": 139,
     "metadata": {},
     "output_type": "execute_result"
    }
   ],
   "source": [
    "sumgearratio =0\n",
    "for i,line in enumerate(machineplan):\n",
    "    for j,c in enumerate(line):\n",
    "        if c==\"*\":\n",
    "            sumgearratio += findgearratio(i,j,machineplan)\n",
    "sumgearratio"
   ]
  }
 ],
 "metadata": {
  "kernelspec": {
   "display_name": "Python 3.11.0",
   "language": "python",
   "name": "python3"
  },
  "language_info": {
   "codemirror_mode": {
    "name": "ipython",
    "version": 3
   },
   "file_extension": ".py",
   "mimetype": "text/x-python",
   "name": "python",
   "nbconvert_exporter": "python",
   "pygments_lexer": "ipython3",
   "version": "3.11.3"
  },
  "vscode": {
   "interpreter": {
    "hash": "40ccaff05b52072d4f8eabac3df5900fe0a79a9a98d891785a410914ef6bf60b"
   }
  }
 },
 "nbformat": 4,
 "nbformat_minor": 2
}
