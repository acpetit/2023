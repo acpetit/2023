{
 "cells": [
  {
   "cell_type": "code",
   "execution_count": 173,
   "metadata": {},
   "outputs": [],
   "source": [
    "import enum\n",
    "import typing\n",
    "from dataclasses import dataclass,field\n"
   ]
  },
  {
   "cell_type": "code",
   "execution_count": 107,
   "metadata": {},
   "outputs": [],
   "source": [
    "class Pulse(enum.Enum):\n",
    "    Low = 0\n",
    "    High = 1\n"
   ]
  },
  {
   "cell_type": "code",
   "execution_count": 142,
   "metadata": {},
   "outputs": [],
   "source": [
    "\n",
    "@dataclass\n",
    "class Module:\n",
    "    name : str\n",
    "    outputs : list[str]\n",
    "    lowpulses :int = 0\n",
    "    highpulses :int = 0\n",
    "\n",
    "    def sendpulse(self,pulse,network):\n",
    "        match pulse:\n",
    "            case Pulse.Low:\n",
    "                self.lowpulses +=len(self.outputs)\n",
    "            case Pulse.High:\n",
    "                self.highpulses +=len(self.outputs)\n",
    "        for module in self.outputs:\n",
    "            # print(self.name, pulse, module)\n",
    "            network.pulsequeue.append((pulse,self.name,module))\n",
    "@dataclass\n",
    "class TheButton(Module):\n",
    "    def __init__(self):\n",
    "        self.name = \"button\"\n",
    "        self.outputs = [\"broadcaster\"]\n",
    "\n",
    "    def pressbutton(self,network):\n",
    "        self.sendpulse(Pulse.Low,network)\n",
    "        \n",
    "@dataclass\n",
    "class Broadcaster(Module):\n",
    "    def receivepulse(self,pulse,name,network):\n",
    "        self.sendpulse(pulse,network)\n",
    "\n",
    "@dataclass\n",
    "class FlipFlop(Module):\n",
    "    status : bool = False\n",
    "    def receivepulse(self,pulse,name,network):   \n",
    "        if pulse==Pulse.Low:\n",
    "            self.status = not self.status\n",
    "            self.sendpulse(Pulse(self.status),network)\n",
    "\n",
    "@dataclass\n",
    "class Output(Module):\n",
    "    def receivepulse(self,pulse,name,network):\n",
    "        match pulse:\n",
    "            case Pulse.Low:\n",
    "                self.lowpulses += 1\n",
    "            case Pulse.High:\n",
    "                self.highpulses += 1\n",
    "\n",
    "@dataclass\n",
    "class Conjunction(Module):\n",
    "    inputs : dict = field(default_factory=dict)\n",
    "    def findinputs(self,network):\n",
    "        for name,module in network.items():\n",
    "            if self.name in module.outputs:\n",
    "                self.inputs[name] = Pulse.Low\n",
    "    \n",
    "    def receivepulse(self,pulse,name,network):\n",
    "        self.inputs[name] = pulse\n",
    "        if Pulse.Low in self.inputs.values():\n",
    "            self.sendpulse(Pulse.High,network)\n",
    "        else:\n",
    "            self.sendpulse(Pulse.Low,network)\n",
    "\n"
   ]
  },
  {
   "cell_type": "code",
   "execution_count": 172,
   "metadata": {},
   "outputs": [],
   "source": [
    "\n",
    "@dataclass\n",
    "class Network(dict):\n",
    "    pulsequeue : list = field(default_factory=list)\n",
    "\n",
    "    @classmethod\n",
    "    def fromfile(cls,filename):\n",
    "        network =cls()\n",
    "        network[\"button\"] =  TheButton()\n",
    "        with open(filename) as f:\n",
    "            for line in f:\n",
    "                input,output = line.rstrip().split(\" -> \")\n",
    "                output = output.split(\", \")\n",
    "                match input[0]:\n",
    "                    case \"%\":\n",
    "                        network[input[1:]] = FlipFlop(input[1:],output)\n",
    "                    case \"&\":\n",
    "                        network[input[1:]] = Conjunction(input[1:],output)\n",
    "                    case \"b\":\n",
    "                        network[\"broadcaster\"] = Broadcaster(\"broadcaster\",output)\n",
    "        for module in network.values():\n",
    "            if type(module) is Conjunction:\n",
    "                module.findinputs(network)\n",
    "        return network\n",
    "    \n",
    "    def isinitiliazed(self):\n",
    "        if self.pulsequeue: return False\n",
    "        for module in self.values():\n",
    "            if type(module) is Conjunction:\n",
    "                if Pulse.High in module.inputs.values(): return False\n",
    "            elif type(module) is FlipFlop:\n",
    "                if module.status: return False\n",
    "        return True\n",
    "\n",
    "    def reset(self):\n",
    "        self.pulsequeue = []\n",
    "        for module in self.values():\n",
    "            module.lowpulses = 0\n",
    "            module.highpulses = 0\n",
    "            if type(module) is Conjunction:\n",
    "                for k in module.inputs.keys():\n",
    "                    module.inputs[k] =Pulse.Low\n",
    "            elif type(module) is FlipFlop:\n",
    "                module.status = False\n",
    "        return True\n",
    "\n",
    "    def countpulses(self):\n",
    "        low,high = 0,0\n",
    "        for module in self.values():\n",
    "            low += module.lowpulses\n",
    "            high += module.highpulses\n",
    "        return low*high, low, high\n",
    "    \n",
    "    def pressbutton(self):\n",
    "        self[\"button\"].pressbutton(self)\n",
    "        self.processpulses()\n",
    "    \n",
    "    def processpulses(self):\n",
    "        while self.pulsequeue:\n",
    "            # print(len(self.pulsequeue))\n",
    "            pulse, sender, receiver = self.pulsequeue.pop(0)\n",
    "            if receiver in self.keys():\n",
    "                self[receiver].receivepulse(pulse,sender,self)\n"
   ]
  },
  {
   "attachments": {},
   "cell_type": "markdown",
   "metadata": {},
   "source": [
    "# Part 1"
   ]
  },
  {
   "cell_type": "code",
   "execution_count": 149,
   "metadata": {},
   "outputs": [
    {
     "data": {
      "text/plain": [
       "(797905680, 16656, 47905)"
      ]
     },
     "execution_count": 149,
     "metadata": {},
     "output_type": "execute_result"
    }
   ],
   "source": [
    "network = Network.fromfile(\"input20.txt\")\n",
    "network[\"rx\"] = Output(\"rx\",[])\n",
    "\n",
    "for _ in range(1000): network.pressbutton()\n",
    "network.countpulses()"
   ]
  },
  {
   "cell_type": "code",
   "execution_count": 150,
   "metadata": {},
   "outputs": [
    {
     "data": {
      "text/plain": [
       "Output(name='rx', outputs=[], lowpulses=0, highpulses=5125)"
      ]
     },
     "execution_count": 150,
     "metadata": {},
     "output_type": "execute_result"
    }
   ],
   "source": [
    "network[\"rx\"] "
   ]
  },
  {
   "cell_type": "code",
   "execution_count": 138,
   "metadata": {},
   "outputs": [
    {
     "name": "stdout",
     "output_type": "stream",
     "text": [
      "button Pulse.Low broadcaster\n",
      "broadcaster Pulse.Low a\n",
      "a Pulse.High inv\n",
      "a Pulse.High con\n",
      "inv Pulse.Low b\n",
      "con Pulse.High output\n",
      "b Pulse.High con\n",
      "con Pulse.Low output\n"
     ]
    },
    {
     "data": {
      "text/plain": [
       "(16, 4, 4)"
      ]
     },
     "execution_count": 138,
     "metadata": {},
     "output_type": "execute_result"
    }
   ],
   "source": [
    "network = Network.fromfile(\"ex20-2.txt\")\n",
    "network.pressbutton()\n",
    "network.countpulses()"
   ]
  },
  {
   "cell_type": "markdown",
   "metadata": {},
   "source": [
    "# Part 2"
   ]
  },
  {
   "cell_type": "code",
   "execution_count": 151,
   "metadata": {},
   "outputs": [
    {
     "ename": "KeyboardInterrupt",
     "evalue": "",
     "output_type": "error",
     "traceback": [
      "\u001b[0;31m---------------------------------------------------------------------------\u001b[0m",
      "\u001b[0;31mKeyboardInterrupt\u001b[0m                         Traceback (most recent call last)",
      "Cell \u001b[0;32mIn[151], line 5\u001b[0m\n\u001b[1;32m      3\u001b[0m numpress \u001b[38;5;241m=\u001b[39m \u001b[38;5;241m0\u001b[39m\n\u001b[1;32m      4\u001b[0m \u001b[38;5;28;01mwhile\u001b[39;00m network[\u001b[38;5;124m\"\u001b[39m\u001b[38;5;124mrx\u001b[39m\u001b[38;5;124m\"\u001b[39m]\u001b[38;5;241m.\u001b[39mlowpulses\u001b[38;5;241m==\u001b[39m\u001b[38;5;241m0\u001b[39m:\n\u001b[0;32m----> 5\u001b[0m     network\u001b[38;5;241m.\u001b[39mpressbutton()\n\u001b[1;32m      6\u001b[0m     numpress\u001b[38;5;241m+\u001b[39m\u001b[38;5;241m=\u001b[39m\u001b[38;5;241m1\u001b[39m\n\u001b[1;32m      7\u001b[0m network\u001b[38;5;241m.\u001b[39mcountpulses()\n",
      "Cell \u001b[0;32mIn[131], line 34\u001b[0m, in \u001b[0;36mNetwork.pressbutton\u001b[0;34m(self)\u001b[0m\n\u001b[1;32m     32\u001b[0m \u001b[38;5;28;01mdef\u001b[39;00m \u001b[38;5;21mpressbutton\u001b[39m(\u001b[38;5;28mself\u001b[39m):\n\u001b[1;32m     33\u001b[0m     \u001b[38;5;28mself\u001b[39m[\u001b[38;5;124m\"\u001b[39m\u001b[38;5;124mbutton\u001b[39m\u001b[38;5;124m\"\u001b[39m]\u001b[38;5;241m.\u001b[39mpressbutton(\u001b[38;5;28mself\u001b[39m)\n\u001b[0;32m---> 34\u001b[0m     \u001b[38;5;28mself\u001b[39m\u001b[38;5;241m.\u001b[39mprocesspulses()\n",
      "Cell \u001b[0;32mIn[131], line 41\u001b[0m, in \u001b[0;36mNetwork.processpulses\u001b[0;34m(self)\u001b[0m\n\u001b[1;32m     39\u001b[0m pulse, sender, receiver \u001b[38;5;241m=\u001b[39m \u001b[38;5;28mself\u001b[39m\u001b[38;5;241m.\u001b[39mpulsequeue\u001b[38;5;241m.\u001b[39mpop(\u001b[38;5;241m0\u001b[39m)\n\u001b[1;32m     40\u001b[0m \u001b[38;5;28;01mif\u001b[39;00m receiver \u001b[38;5;129;01min\u001b[39;00m \u001b[38;5;28mself\u001b[39m\u001b[38;5;241m.\u001b[39mkeys():\n\u001b[0;32m---> 41\u001b[0m     \u001b[38;5;28mself\u001b[39m[receiver]\u001b[38;5;241m.\u001b[39mreceivepulse(pulse,sender,\u001b[38;5;28mself\u001b[39m)\n",
      "Cell \u001b[0;32mIn[142], line 37\u001b[0m, in \u001b[0;36mFlipFlop.receivepulse\u001b[0;34m(self, pulse, name, network)\u001b[0m\n\u001b[1;32m     35\u001b[0m \u001b[38;5;28;01mif\u001b[39;00m pulse\u001b[38;5;241m==\u001b[39mPulse\u001b[38;5;241m.\u001b[39mLow:\n\u001b[1;32m     36\u001b[0m     \u001b[38;5;28mself\u001b[39m\u001b[38;5;241m.\u001b[39mstatus \u001b[38;5;241m=\u001b[39m \u001b[38;5;129;01mnot\u001b[39;00m \u001b[38;5;28mself\u001b[39m\u001b[38;5;241m.\u001b[39mstatus\n\u001b[0;32m---> 37\u001b[0m     \u001b[38;5;28mself\u001b[39m\u001b[38;5;241m.\u001b[39msendpulse(Pulse(\u001b[38;5;28mself\u001b[39m\u001b[38;5;241m.\u001b[39mstatus),network)\n",
      "Cell \u001b[0;32mIn[142], line 16\u001b[0m, in \u001b[0;36mModule.sendpulse\u001b[0;34m(self, pulse, network)\u001b[0m\n\u001b[1;32m      9\u001b[0m \u001b[38;5;28;01mmatch\u001b[39;00m pulse:\n\u001b[1;32m     10\u001b[0m     \u001b[38;5;28;01mcase\u001b[39;00m Pulse\u001b[38;5;241m.\u001b[39mLow:\n\u001b[1;32m     11\u001b[0m         \u001b[38;5;28mself\u001b[39m\u001b[38;5;241m.\u001b[39mlowpulses \u001b[38;5;241m+\u001b[39m\u001b[38;5;241m=\u001b[39m\u001b[38;5;28mlen\u001b[39m(\u001b[38;5;28mself\u001b[39m\u001b[38;5;241m.\u001b[39moutputs)\n\u001b[1;32m     12\u001b[0m     \u001b[38;5;28;01mcase\u001b[39;00m Pulse\u001b[38;5;241m.\u001b[39mHigh:\n\u001b[1;32m     13\u001b[0m         \u001b[38;5;28mself\u001b[39m\u001b[38;5;241m.\u001b[39mhighpulses \u001b[38;5;241m+\u001b[39m\u001b[38;5;241m=\u001b[39m\u001b[38;5;28mlen\u001b[39m(\u001b[38;5;28mself\u001b[39m\u001b[38;5;241m.\u001b[39moutputs)\n\u001b[1;32m     14\u001b[0m \u001b[38;5;28;01mfor\u001b[39;00m module \u001b[38;5;129;01min\u001b[39;00m \u001b[38;5;28mself\u001b[39m\u001b[38;5;241m.\u001b[39moutputs:\n\u001b[1;32m     15\u001b[0m     \u001b[38;5;66;03m# print(self.name, pulse, module)\u001b[39;00m\n\u001b[0;32m---> 16\u001b[0m     network\u001b[38;5;241m.\u001b[39mpulsequeue\u001b[38;5;241m.\u001b[39mappend((pulse,\u001b[38;5;28mself\u001b[39m\u001b[38;5;241m.\u001b[39mname,module))\n",
      "\u001b[0;31mKeyboardInterrupt\u001b[0m: "
     ]
    }
   ],
   "source": [
    "network = Network.fromfile(\"input20.txt\")\n",
    "network[\"rx\"] = Output(\"rx\",[])\n",
    "numpress = 0\n",
    "while network[\"rx\"].lowpulses==0:\n",
    "    network.pressbutton()\n",
    "    numpress+=1\n",
    "network.countpulses()\n",
    "#Too long"
   ]
  },
  {
   "cell_type": "code",
   "execution_count": 163,
   "metadata": {},
   "outputs": [],
   "source": [
    "network = Network.fromfile(\"input20.txt\")\n",
    "network[\"rx\"] = Output(\"rx\",[])\n"
   ]
  },
  {
   "cell_type": "code",
   "execution_count": 170,
   "metadata": {},
   "outputs": [],
   "source": [
    "network = Network.fromfile(\"input20.txt\")\n",
    "network[\"rx\"] = Output(\"rx\",[])\n",
    "subcycles = {}\n",
    "for mod in network[\"vr\"].inputs.keys():\n",
    "    network.reset()\n",
    "    numpress = 0\n",
    "    while network[mod].highpulses==0: \n",
    "        network.pressbutton()\n",
    "        numpress+=1\n",
    "    subcycles[mod] = numpress"
   ]
  },
  {
   "cell_type": "code",
   "execution_count": null,
   "metadata": {},
   "outputs": [],
   "source": []
  },
  {
   "cell_type": "code",
   "execution_count": 171,
   "metadata": {},
   "outputs": [
    {
     "data": {
      "text/plain": [
       "{'pq': (4001, False),\n",
       " 'fg': (3929, False),\n",
       " 'dk': (3793, False),\n",
       " 'fm': (4007, False)}"
      ]
     },
     "execution_count": 171,
     "metadata": {},
     "output_type": "execute_result"
    }
   ],
   "source": [
    "subcycles"
   ]
  },
  {
   "cell_type": "code",
   "execution_count": 169,
   "metadata": {},
   "outputs": [
    {
     "data": {
      "text/plain": [
       "238920142622879"
      ]
     },
     "execution_count": 169,
     "metadata": {},
     "output_type": "execute_result"
    }
   ],
   "source": [
    "4001*3929*3793*4007"
   ]
  }
 ],
 "metadata": {
  "kernelspec": {
   "display_name": "Python 3.11.0",
   "language": "python",
   "name": "python3"
  },
  "language_info": {
   "codemirror_mode": {
    "name": "ipython",
    "version": 3
   },
   "file_extension": ".py",
   "mimetype": "text/x-python",
   "name": "python",
   "nbconvert_exporter": "python",
   "pygments_lexer": "ipython3",
   "version": "3.11.3"
  },
  "vscode": {
   "interpreter": {
    "hash": "40ccaff05b52072d4f8eabac3df5900fe0a79a9a98d891785a410914ef6bf60b"
   }
  }
 },
 "nbformat": 4,
 "nbformat_minor": 2
}
