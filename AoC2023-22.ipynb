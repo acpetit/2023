{
 "cells": [
  {
   "cell_type": "code",
   "execution_count": 150,
   "metadata": {},
   "outputs": [],
   "source": [
    "import enum\n",
    "import typing\n",
    "from dataclasses import dataclass,field\n",
    "import numpy as np\n",
    "\n",
    "import tqdm\n",
    "import matplotlib.pyplot as plt\n",
    "%matplotlib inline\n",
    "%config InlineBackend.figure_format = 'retina'\n",
    "import cmasher as cmr\n",
    "\n",
    "import networkx as nx\n",
    "from collections import Counter"
   ]
  },
  {
   "cell_type": "code",
   "execution_count": 36,
   "metadata": {},
   "outputs": [],
   "source": [
    "def getfallingbricks(filename):\n",
    "    tower = []\n",
    "    with open(filename) as f:\n",
    "        for id,line in enumerate(f):\n",
    "            brick = np.array([[int(coord) for coord in point.split(\",\")] for point in line.rstrip().split(\"~\")])\n",
    "            tower.append(Brick(id,brick))\n",
    "    return sorted(tower)"
   ]
  },
  {
   "cell_type": "code",
   "execution_count": 64,
   "metadata": {},
   "outputs": [],
   "source": [
    "def getOverlap(a, b):\n",
    "    return max(0, min(a[1], b[1])+1 - max(a[0], b[0]))\n",
    "\n",
    "def settle(tower):\n",
    "    tower.sort()\n",
    "    for k,brick in tqdm.tqdm(enumerate(tower)):\n",
    "        while not brick.checkstable(tower[:k]):\n",
    "            brick.fall(tower[:k])\n",
    "\n",
    "@dataclass(eq=True)\n",
    "class Brick:\n",
    "    id : int\n",
    "    coords : np.array\n",
    "    stable :bool =False\n",
    "    supportedby : set = field(default_factory=set)\n",
    "\n",
    "    def __lt__(self,b):\n",
    "        if self.zmin<b.zmin: return True\n",
    "        elif self.zmin==b.zmin and self.zmax<b.zmax: return True\n",
    "        elif (self.z==b.z).all(): return self.id<b.id\n",
    "        else: return False\n",
    "\n",
    "    @property\n",
    "    def x(self):\n",
    "        return self.coords[:,0]\n",
    "    @property\n",
    "    def y(self):\n",
    "        return self.coords[:,1]\n",
    "    @property\n",
    "    def z(self):\n",
    "        return self.coords[:,2]\n",
    "    \n",
    "    @property\n",
    "    def zmax(self): return self.coords[1,2]\n",
    "\n",
    "    @property\n",
    "    def zmin(self): return self.coords[0,2]\n",
    "\n",
    "    \n",
    "    def fall(self,tower):\n",
    "        if not self.stable:\n",
    "            self.coords[:,2] -=1\n",
    "\n",
    "    def checkstable(self,tower):\n",
    "        \"\"\"Return False if no other brick/ground supports it else the brick or True if on the ground\"\"\"\n",
    "        if self.stable: return True\n",
    "        else:\n",
    "            if self.zmin==1: \n",
    "                self.stable = True\n",
    "                return True\n",
    "        for brick in tower:\n",
    "            if brick.stable:\n",
    "                if brick.id!=self.id: # actually not necessary\n",
    "                    if self.issupportedby(brick):\n",
    "                        self.supportedby.add(brick.id)\n",
    "                        self.stable = True\n",
    "                        return brick.id\n",
    "        return False\n",
    "\n",
    "    def overlap(self,brick):\n",
    "        xover = getOverlap(self.x,brick.x)\n",
    "        yover = getOverlap(self.y,brick.y)\n",
    "        return (xover*yover)>0\n",
    "\n",
    "    def issupportedby(self,brick):\n",
    "        if self.zmin!=brick.zmax+1: return False\n",
    "        return self.overlap(brick)\n",
    "\n"
   ]
  },
  {
   "attachments": {},
   "cell_type": "markdown",
   "metadata": {},
   "source": [
    "# Part 1"
   ]
  },
  {
   "cell_type": "code",
   "execution_count": 65,
   "metadata": {},
   "outputs": [
    {
     "name": "stderr",
     "output_type": "stream",
     "text": [
      "1477it [00:28, 52.56it/s] \n"
     ]
    }
   ],
   "source": [
    "tower = getfallingbricks(\"input22.txt\")\n",
    "settle(tower) #Super not satisfying"
   ]
  },
  {
   "cell_type": "code",
   "execution_count": 140,
   "metadata": {},
   "outputs": [],
   "source": [
    "def createsupportbygraph(tower):\n",
    "    graph = {}\n",
    "    for b in tower:\n",
    "        for b2 in tower:\n",
    "            if b.issupportedby(b2):\n",
    "                b.supportedby.add(b2.id)\n",
    "        graph[b.id] = b.supportedby\n",
    "        if not graph[b.id]:\n",
    "            graph[b.id] = {-1}\n",
    "    return  nx.DiGraph(graph)"
   ]
  },
  {
   "cell_type": "code",
   "execution_count": 141,
   "metadata": {},
   "outputs": [],
   "source": [
    "supportbygraph = createsupportbygraph(tower)\n",
    "supportgraph = supportbygraph.reverse()"
   ]
  },
  {
   "cell_type": "code",
   "execution_count": 147,
   "metadata": {},
   "outputs": [],
   "source": [
    "def disintegrablebricks(tower):\n",
    "    suppby = createsupportbygraph(tower)\n",
    "    supp = suppby.reverse() \n",
    "    disintegrable = []\n",
    "    for k in supp.nodes():\n",
    "        if k!=-1:\n",
    "            if len(supp[k])==0:\n",
    "                disintegrable.append(k)\n",
    "            else:\n",
    "                dualsupport = True\n",
    "                for j in supp[k]:\n",
    "                    if len(suppby[j])<2:\n",
    "                        dualsupport = False\n",
    "                if dualsupport:\n",
    "                    disintegrable.append(k)\n",
    "    return disintegrable\n",
    "    "
   ]
  },
  {
   "cell_type": "code",
   "execution_count": 148,
   "metadata": {},
   "outputs": [],
   "source": [
    "disbricks = disintegrablebricks(tower)"
   ]
  },
  {
   "cell_type": "code",
   "execution_count": 149,
   "metadata": {},
   "outputs": [
    {
     "data": {
      "text/plain": [
       "503"
      ]
     },
     "execution_count": 149,
     "metadata": {},
     "output_type": "execute_result"
    }
   ],
   "source": [
    "len(disbricks)"
   ]
  },
  {
   "cell_type": "markdown",
   "metadata": {},
   "source": [
    "# Part 2"
   ]
  },
  {
   "cell_type": "code",
   "execution_count": null,
   "metadata": {},
   "outputs": [
    {
     "data": {
      "text/plain": [
       "Counter({1: 698, 0: 379, 2: 325, 3: 67, 4: 7, 5: 1})"
      ]
     },
     "metadata": {},
     "output_type": "display_data"
    }
   ],
   "source": [
    "Counter([len(supportgraph[v]) for v in supportgraph])"
   ]
  },
  {
   "cell_type": "code",
   "execution_count": null,
   "metadata": {},
   "outputs": [
    {
     "data": {
      "text/plain": [
       "Counter({1: 1335, 2: 113, 0: 22, 3: 7})"
      ]
     },
     "metadata": {},
     "output_type": "display_data"
    }
   ],
   "source": [
    "Counter([len(supportbygraph[v]) for v in supportgraph])"
   ]
  },
  {
   "cell_type": "code",
   "execution_count": 153,
   "metadata": {},
   "outputs": [],
   "source": [
    "def findfallingbricks(support,supportby,brick,fallingbricks):\n",
    "    fallingbricks.add(brick)\n",
    "    for overbrick in support[brick]:\n",
    "        if all([supbrick in fallingbricks for supbrick in supportby[overbrick]]):\n",
    "            fallingbricks.add(overbrick)\n",
    "            findfallingbricks(support,supportby,overbrick,fallingbricks)\n",
    "    return len(fallingbricks)-1\n",
    "            "
   ]
  },
  {
   "cell_type": "code",
   "execution_count": 160,
   "metadata": {},
   "outputs": [
    {
     "data": {
      "text/plain": [
       "98431"
      ]
     },
     "execution_count": 160,
     "metadata": {},
     "output_type": "execute_result"
    }
   ],
   "source": [
    "sum([findfallingbricks(supportgraph,supportbygraph,b.id,set()) for b in tower])"
   ]
  }
 ],
 "metadata": {
  "kernelspec": {
   "display_name": "Python 3.11.0",
   "language": "python",
   "name": "python3"
  },
  "language_info": {
   "codemirror_mode": {
    "name": "ipython",
    "version": 3
   },
   "file_extension": ".py",
   "mimetype": "text/x-python",
   "name": "python",
   "nbconvert_exporter": "python",
   "pygments_lexer": "ipython3",
   "version": "3.11.3"
  },
  "vscode": {
   "interpreter": {
    "hash": "40ccaff05b52072d4f8eabac3df5900fe0a79a9a98d891785a410914ef6bf60b"
   }
  }
 },
 "nbformat": 4,
 "nbformat_minor": 2
}
