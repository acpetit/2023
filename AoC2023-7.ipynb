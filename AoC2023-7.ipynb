{
 "cells": [
  {
   "cell_type": "code",
   "execution_count": 18,
   "metadata": {},
   "outputs": [],
   "source": [
    "from string import digits\n",
    "from dataclasses import dataclass\n",
    "import enum\n",
    "import typing\n",
    "from collections import Counter\n",
    "\n",
    "# from functools import total_ordering\n"
   ]
  },
  {
   "attachments": {},
   "cell_type": "markdown",
   "metadata": {},
   "source": [
    "# Part 1"
   ]
  },
  {
   "cell_type": "code",
   "execution_count": null,
   "metadata": {},
   "outputs": [],
   "source": [
    "class Card(enum.IntEnum):\n",
    "    T=10\n",
    "    J=11\n",
    "    Q=12\n",
    "    K=13\n",
    "    A=14\n",
    "\n",
    "\n",
    "class HandType(enum.IntEnum):\n",
    "    Unknown = 0\n",
    "    HighCard = 1\n",
    "    OnePair = 2\n",
    "    TwoPair = 3\n",
    "    Threes = 4\n",
    "    FullHouse = 5\n",
    "    Fours = 6\n",
    "    Fives = 7\n"
   ]
  },
  {
   "cell_type": "code",
   "execution_count": null,
   "metadata": {},
   "outputs": [],
   "source": [
    "def determine_hand_type(cards):\n",
    "    counts = Counter(cards).most_common()\n",
    "    card,number = counts.pop(0)\n",
    "    match number:\n",
    "        case 5: return HandType.Fives\n",
    "        case 4: return HandType.Fours\n",
    "        case 3:\n",
    "            card2,n2 = counts.pop(0)\n",
    "            if n2==2: return HandType.FullHouse\n",
    "            else: return HandType.Threes\n",
    "        case 2:\n",
    "            card2,n2 = counts.pop(0)\n",
    "            if n2==2: return HandType.TwoPair\n",
    "            else: return HandType.OnePair\n",
    "        case 1: return HandType.HighCard\n",
    "\n",
    "@dataclass(order=True)\n",
    "class Hand:\n",
    "    type : HandType \n",
    "    cards : typing.List\n",
    "    bid  : int =0 \n",
    "\n",
    "    @classmethod\n",
    "    def fromstr(cls,s):\n",
    "        hand,bid = s.split()\n",
    "        cards = [int(c) if c in digits else Card[c]  for c in hand]\n",
    "        return cls(determine_hand_type(cards),cards,int(bid))\n"
   ]
  },
  {
   "cell_type": "code",
   "execution_count": null,
   "metadata": {},
   "outputs": [],
   "source": [
    "ex = \"\"\"32T3K 765\n",
    "T55J5 684\n",
    "KK677 28\n",
    "KTJJT 220\n",
    "QQQJA 483\"\"\"\n",
    "\n",
    "exhands = [Hand.fromstr(s) for s in ex.splitlines()]"
   ]
  },
  {
   "cell_type": "code",
   "execution_count": null,
   "metadata": {},
   "outputs": [],
   "source": [
    "with open(\"input7.txt\") as f:\n",
    "    hands = [Hand.fromstr(s) for s in f.read().splitlines()]"
   ]
  },
  {
   "cell_type": "code",
   "execution_count": null,
   "metadata": {},
   "outputs": [
    {
     "name": "stdout",
     "output_type": "stream",
     "text": [
      "Earnings: 6440\n"
     ]
    }
   ],
   "source": [
    "print(f\"Earnings: {sum([k*h.bid for k,h in enumerate(sorted(exhands,),start=1)])}\")"
   ]
  },
  {
   "cell_type": "code",
   "execution_count": 58,
   "metadata": {},
   "outputs": [
    {
     "name": "stdout",
     "output_type": "stream",
     "text": [
      "Earnings: 251121738\n"
     ]
    }
   ],
   "source": [
    "print(f\"Earnings: {sum([k*h.bid for k,h in enumerate(sorted(hands),start=1)])}\")"
   ]
  },
  {
   "cell_type": "markdown",
   "metadata": {},
   "source": [
    "# Part 2"
   ]
  },
  {
   "cell_type": "code",
   "execution_count": 64,
   "metadata": {},
   "outputs": [],
   "source": [
    "class CardJ(enum.IntEnum):\n",
    "    T=10\n",
    "    J=0\n",
    "    Q=12\n",
    "    K=13\n",
    "    A=14"
   ]
  },
  {
   "cell_type": "code",
   "execution_count": 98,
   "metadata": {},
   "outputs": [],
   "source": [
    "def determine_hand_type_with_joker(cards):\n",
    "    counts = Counter(cards)\n",
    "    try: jokers = counts.pop(CardJ[\"J\"])\n",
    "    except KeyError: jokers = 0\n",
    "    counts = counts.most_common()\n",
    "    try: card,number = counts.pop(0)\n",
    "    except IndexError: number = 0 \n",
    "    match number+jokers:\n",
    "        case 5: return HandType.Fives\n",
    "        case 4: return HandType.Fours\n",
    "        case 3:\n",
    "            card2,n2 = counts.pop(0)\n",
    "            if n2==2: return HandType.FullHouse\n",
    "            else: return HandType.Threes\n",
    "        case 2:\n",
    "            card2,n2 = counts.pop(0)\n",
    "            if n2==2: return HandType.TwoPair\n",
    "            else: return HandType.OnePair\n",
    "        case 1: return HandType.HighCard\n",
    "\n",
    "@dataclass(order=True)\n",
    "class HandJ:\n",
    "    type : HandType \n",
    "    cards : typing.List\n",
    "    bid  : int =0 \n",
    "\n",
    "    @classmethod\n",
    "    def fromstr(cls,s):\n",
    "        hand,bid = s.split()\n",
    "        cards = [int(c) if c in digits else CardJ[c]  for c in hand]\n",
    "        return cls(determine_hand_type_with_joker(cards),cards,int(bid))\n"
   ]
  },
  {
   "cell_type": "code",
   "execution_count": 91,
   "metadata": {},
   "outputs": [],
   "source": [
    "ex = \"\"\"32T3K 765\n",
    "T55J5 684\n",
    "KK677 28\n",
    "KTJJT 220\n",
    "QQQJA 483\"\"\"\n",
    "\n",
    "exhandsJ = [HandJ.fromstr(s) for s in ex.splitlines()]"
   ]
  },
  {
   "cell_type": "code",
   "execution_count": 99,
   "metadata": {},
   "outputs": [],
   "source": [
    "with open(\"input7.txt\") as f:\n",
    "    handsJ = [HandJ.fromstr(s) for s in f.read().splitlines()]"
   ]
  },
  {
   "cell_type": "code",
   "execution_count": 100,
   "metadata": {},
   "outputs": [
    {
     "name": "stdout",
     "output_type": "stream",
     "text": [
      "Earnings: 5905\n"
     ]
    }
   ],
   "source": [
    "print(f\"Earnings: {sum([k*h.bid for k,h in enumerate(sorted(exhandsJ,),start=1)])}\")"
   ]
  },
  {
   "cell_type": "code",
   "execution_count": 102,
   "metadata": {},
   "outputs": [
    {
     "name": "stdout",
     "output_type": "stream",
     "text": [
      "Earnings: 251421071\n"
     ]
    }
   ],
   "source": [
    "print(f\"Earnings: {sum([k*h.bid for k,h in enumerate(sorted(handsJ),start=1)])}\")"
   ]
  }
 ],
 "metadata": {
  "kernelspec": {
   "display_name": "Python 3.11.0",
   "language": "python",
   "name": "python3"
  },
  "language_info": {
   "codemirror_mode": {
    "name": "ipython",
    "version": 3
   },
   "file_extension": ".py",
   "mimetype": "text/x-python",
   "name": "python",
   "nbconvert_exporter": "python",
   "pygments_lexer": "ipython3",
   "version": "3.11.3"
  },
  "vscode": {
   "interpreter": {
    "hash": "40ccaff05b52072d4f8eabac3df5900fe0a79a9a98d891785a410914ef6bf60b"
   }
  }
 },
 "nbformat": 4,
 "nbformat_minor": 2
}
