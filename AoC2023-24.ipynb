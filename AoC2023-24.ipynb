{
 "cells": [
  {
   "cell_type": "code",
   "execution_count": 27,
   "metadata": {},
   "outputs": [],
   "source": [
    "\n",
    "from dataclasses import dataclass,field\n",
    "import numpy as np\n",
    "\n",
    "from tqdm import tqdm\n",
    "import matplotlib.pyplot as plt\n",
    "%matplotlib inline\n",
    "%config InlineBackend.figure_format = 'retina'\n",
    "import cmasher as cmr\n",
    "\n",
    "import networkx as nx\n",
    "from collections import Counter\n",
    "\n",
    "import itertools"
   ]
  },
  {
   "cell_type": "code",
   "execution_count": 73,
   "metadata": {},
   "outputs": [],
   "source": [
    "@dataclass\n",
    "class Hail:\n",
    "    pos : np.array\n",
    "    vel : np.array\n",
    "\n",
    "    @classmethod\n",
    "    def fromfile(cls,row):\n",
    "        p,v = row.split(\" @ \")\n",
    "        return cls(np.array([int(c) for c in p.split(\", \")],dtype=int),np.array([int(c) for c in v.split(\", \")],dtype=int))\n",
    "    \n",
    "    def inter2d(self,other):\n",
    "        dpos = other.pos[:2]-self.pos[:2]\n",
    "        perpother = np.array([-other.vel[1],other.vel[0]])\n",
    "        if (denom:=np.dot(perpother,self.vel[:2]))!=0:\n",
    "            t=np.dot(dpos,perpother)/denom\n",
    "            return self.pos[:2]+ t*self.vel[:2]\n",
    "        elif np.cross(dpos,self.vel[:2])==0:\n",
    "            return self.pos[:2]\n",
    "        else: return None\n",
    "\n",
    "    def inter2dfuture(self,other):\n",
    "        dpos = other.pos[:2]-self.pos[:2]\n",
    "        perpself = np.array([-self.vel[1],self.vel[0]])\n",
    "        perpother = np.array([-other.vel[1],other.vel[0]])\n",
    "        cross = np.cross(other.vel[:2],self.vel[:2])\n",
    "        if cross!=0:\n",
    "            tself=np.dot(dpos,perpother)/cross\n",
    "            tother=np.dot(dpos,perpself)/cross\n",
    "            # print(tself,tother)\n",
    "            if tself>=0 and tother >=0:\n",
    "                return self.pos[:2]+ tself*self.vel[:2]\n",
    "            else: return None\n",
    "        elif np.cross(dpos,self.vel[:2])==0:\n",
    "            if np.dot(other.vel[:2]-self.vel[:2],dpos)>0:\n",
    "                return self.pos[:2]+np.norm(dpos)/np.norm(other.vel[:2]-self.vel[:2])*self.vel[:2],0,0\n",
    "        else: return None\n",
    "\n",
    "    def inter2dinarea(self,other,area):\n",
    "        inter = self.inter2dfuture(other)\n",
    "        if inter is not None:\n",
    "            \n",
    "            return np.all((area[0]<=inter)&(inter<=area[1]))\n",
    "        else: return False\n",
    "\n",
    "\n"
   ]
  },
  {
   "cell_type": "code",
   "execution_count": 74,
   "metadata": {},
   "outputs": [],
   "source": [
    "with open(\"input24.txt\") as f:\n",
    "    hails =[Hail.fromfile(row.rstrip()) for row in f]"
   ]
  },
  {
   "attachments": {},
   "cell_type": "markdown",
   "metadata": {},
   "source": [
    "# Part 1"
   ]
  },
  {
   "cell_type": "code",
   "execution_count": 75,
   "metadata": {},
   "outputs": [],
   "source": [
    "testarea = (200_000_000_000_000,400_000_000_000_000)"
   ]
  },
  {
   "cell_type": "code",
   "execution_count": 76,
   "metadata": {},
   "outputs": [
    {
     "name": "stderr",
     "output_type": "stream",
     "text": [
      "44850it [00:00, 63828.52it/s]\n"
     ]
    }
   ],
   "source": [
    "ninter = 0\n",
    "for h1,h2 in tqdm(itertools.combinations(hails,2)):\n",
    "    ninter += h1.inter2dinarea(h2,testarea)"
   ]
  },
  {
   "cell_type": "code",
   "execution_count": 77,
   "metadata": {},
   "outputs": [
    {
     "data": {
      "text/plain": [
       "20963"
      ]
     },
     "execution_count": 77,
     "metadata": {},
     "output_type": "execute_result"
    }
   ],
   "source": [
    "ninter"
   ]
  },
  {
   "cell_type": "code",
   "execution_count": 67,
   "metadata": {},
   "outputs": [],
   "source": [
    "ex = \"\"\"19, 13, 30 @ -2,  1, -2\n",
    "18, 19, 22 @ -1, -1, -2\n",
    "20, 25, 34 @ -2, -2, -4\n",
    "12, 31, 28 @ -1, -2, -1\n",
    "20, 19, 15 @  1, -5, -3\"\"\"\n",
    "exhail = [Hail.fromfile(row.rstrip()) for row in ex.splitlines()]"
   ]
  },
  {
   "cell_type": "code",
   "execution_count": 68,
   "metadata": {},
   "outputs": [
    {
     "name": "stderr",
     "output_type": "stream",
     "text": [
      "10it [00:00, 5694.14it/s]"
     ]
    },
    {
     "name": "stdout",
     "output_type": "stream",
     "text": [
      "[14.33333333 15.33333333]\n",
      "2.3333333333333335 3.6666666666666665\n",
      "[11.66666667 16.66666667]\n",
      "3.6666666666666665 4.166666666666667\n",
      "[ 6.2 19.4]\n",
      "6.4 5.8\n",
      "[21.44444444 11.77777778]\n",
      "-1.2222222222222223 1.4444444444444444\n",
      "None\n",
      "[-6. -5.]\n",
      "24.0 18.0\n",
      "[19.66666667 20.66666667]\n",
      "-1.6666666666666667 -0.3333333333333333\n",
      "[-2.  3.]\n",
      "11.0 14.0\n",
      "[19. 24.]\n",
      "0.5 -1.0\n",
      "[16. 39.]\n",
      "-4.0 -4.0\n"
     ]
    },
    {
     "name": "stderr",
     "output_type": "stream",
     "text": [
      "\n"
     ]
    },
    {
     "data": {
      "text/plain": [
       "2"
      ]
     },
     "execution_count": 68,
     "metadata": {},
     "output_type": "execute_result"
    }
   ],
   "source": [
    "ninter = 0\n",
    "for h1,h2 in tqdm(itertools.combinations(exhail,2)):\n",
    "    print(h1.inter2d(h2))\n",
    "    ninter += h1.inter2dinarea(h2,(7,27))\n",
    "ninter"
   ]
  },
  {
   "cell_type": "markdown",
   "metadata": {},
   "source": [
    "# Part 2"
   ]
  },
  {
   "cell_type": "code",
   "execution_count": 79,
   "metadata": {},
   "outputs": [],
   "source": [
    "with open(\"input24.txt\") as f:\n",
    "    hails =[Hail.fromfile(row.rstrip()) for row in f]"
   ]
  },
  {
   "cell_type": "code",
   "execution_count": 129,
   "metadata": {},
   "outputs": [],
   "source": [
    "import sympy as sy"
   ]
  },
  {
   "cell_type": "code",
   "execution_count": 145,
   "metadata": {},
   "outputs": [],
   "source": [
    "t1,t2,t3 = sy.Symbol(\"t_1\"),sy.Symbol(\"t_2\"),sy.Symbol(\"t_3\")\n",
    "x0,y0,z0 = sy.symbols(\"x,y,z\")\n",
    "vx0,vy0,vz0 = sy.symbols(\"vx,vy,vz\")"
   ]
  },
  {
   "cell_type": "code",
   "execution_count": 146,
   "metadata": {},
   "outputs": [],
   "source": [
    "def eqsystem(x,hails):\n",
    "    x0 = x[:3]\n",
    "    v0 = x[3:6]\n",
    "    ts = x[6:]\n",
    "    return np.concatenate([hail.pos-x0+t*(hail.vel-v0) for hail,t in zip(hails,ts)])"
   ]
  },
  {
   "cell_type": "code",
   "execution_count": 161,
   "metadata": {},
   "outputs": [
    {
     "data": {
      "text/plain": [
       "[t_1*(64 - vx) - x + 232488932265751,\n",
       " t_1*(273 - vy) - y + 93844132799095,\n",
       " t_1*(119 - vz) - z + 203172424390144,\n",
       " t_2*(14 - vx) - x + 258285813391475,\n",
       " t_2*(-vy - 10) - y + 225317967801013,\n",
       " t_2*(-vz - 22) - z + 306162724914014,\n",
       " t_3*(-vx - 182) - x + 377519381672953,\n",
       " t_3*(-vy - 80) - y + 343737262245611,\n",
       " t_3*(-vz - 373) - z + 485395777725108]"
      ]
     },
     "execution_count": 161,
     "metadata": {},
     "output_type": "execute_result"
    }
   ],
   "source": [
    "list(eqsystem((x0,y0,z0,vx0,vy0,vz0,t1,t2,t3),hails[:3]))"
   ]
  },
  {
   "cell_type": "code",
   "execution_count": 152,
   "metadata": {},
   "outputs": [
    {
     "data": {
      "text/plain": [
       "{t_1: 654071052858,\n",
       " t_2: 857208450422,\n",
       " t_3: 556101734365,\n",
       " vx: -20,\n",
       " vy: -274,\n",
       " vz: 31,\n",
       " x: 287430900705823,\n",
       " y: 451620998712421,\n",
       " z: 260730677041648}"
      ]
     },
     "execution_count": 152,
     "metadata": {},
     "output_type": "execute_result"
    }
   ],
   "source": [
    "sol = sy.solve(list(eqsystem((x0,y0,z0,vx0,vy0,vz0,t1,t2,t3),hails[:3])))[0]\n",
    "sol"
   ]
  },
  {
   "cell_type": "code",
   "execution_count": 158,
   "metadata": {},
   "outputs": [
    {
     "data": {
      "text/latex": [
       "$\\displaystyle 999782576459892$"
      ],
      "text/plain": [
       "999782576459892"
      ]
     },
     "execution_count": 158,
     "metadata": {},
     "output_type": "execute_result"
    }
   ],
   "source": [
    "sol[x0]+sol[y0]+sol[z0]"
   ]
  },
  {
   "cell_type": "code",
   "execution_count": 156,
   "metadata": {},
   "outputs": [
    {
     "data": {
      "text/plain": [
       "dict_keys([t_1, t_2, t_3, vx, vy, vz, x, y, z])"
      ]
     },
     "execution_count": 156,
     "metadata": {},
     "output_type": "execute_result"
    }
   ],
   "source": [
    "sol.keys()"
   ]
  },
  {
   "cell_type": "code",
   "execution_count": null,
   "metadata": {},
   "outputs": [],
   "source": []
  }
 ],
 "metadata": {
  "kernelspec": {
   "display_name": "Python 3.11.0",
   "language": "python",
   "name": "python3"
  },
  "language_info": {
   "codemirror_mode": {
    "name": "ipython",
    "version": 3
   },
   "file_extension": ".py",
   "mimetype": "text/x-python",
   "name": "python",
   "nbconvert_exporter": "python",
   "pygments_lexer": "ipython3",
   "version": "3.11.3"
  },
  "vscode": {
   "interpreter": {
    "hash": "40ccaff05b52072d4f8eabac3df5900fe0a79a9a98d891785a410914ef6bf60b"
   }
  }
 },
 "nbformat": 4,
 "nbformat_minor": 2
}
