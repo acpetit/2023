{
 "cells": [
  {
   "cell_type": "code",
   "execution_count": 3,
   "metadata": {},
   "outputs": [],
   "source": [
    "import numpy as np"
   ]
  },
  {
   "cell_type": "code",
   "execution_count": 4,
   "metadata": {},
   "outputs": [],
   "source": [
    "rockpatterns =[]\n",
    "\n",
    "with open(\"input13.txt\") as f:\n",
    "    for pattern in f.read().split(\"\\n\\n\"):\n",
    "        rockpatterns.append(np.array([[1 if c=='#' else 0 for c in line] for line in pattern.splitlines()],dtype=int))\n"
   ]
  },
  {
   "attachments": {},
   "cell_type": "markdown",
   "metadata": {},
   "source": [
    "# Part 1"
   ]
  },
  {
   "cell_type": "code",
   "execution_count": 92,
   "metadata": {},
   "outputs": [],
   "source": [
    "def findreflection(pattern,excluded=(None,None)):\n",
    "    N,M = pattern.shape\n",
    "    for y in range(1,N): #rows\n",
    "        if y == excluded[1]: continue\n",
    "        if y<N-y:\n",
    "            if abs(pattern[:y]-pattern[2*y-1:y-1:-1]).sum()==0:\n",
    "                return y*100\n",
    "        else:\n",
    "            if abs(pattern[2*y-N:y]-pattern[N-1:y-1:-1]).sum()==0:\n",
    "                return y*100\n",
    "    for x in range(1,M): #rows\n",
    "        if x == excluded[0]: continue\n",
    "        if x<M-x:\n",
    "            if abs(pattern[:,:x]-pattern[:,2*x-1:x-1:-1]).sum()==0:\n",
    "                return x\n",
    "        else:\n",
    "            if abs(pattern[:,2*x-M:x]-pattern[:,M-1:x-1:-1]).sum()==0:\n",
    "                return x\n",
    "    return 0"
   ]
  },
  {
   "cell_type": "code",
   "execution_count": 50,
   "metadata": {},
   "outputs": [
    {
     "data": {
      "text/plain": [
       "26957"
      ]
     },
     "execution_count": 50,
     "metadata": {},
     "output_type": "execute_result"
    }
   ],
   "source": [
    "sum(findreflection(p) for p in rockpatterns)"
   ]
  },
  {
   "cell_type": "markdown",
   "metadata": {},
   "source": [
    "# Part 2"
   ]
  },
  {
   "cell_type": "code",
   "execution_count": 96,
   "metadata": {},
   "outputs": [],
   "source": [
    "def fixandfind(pattern):\n",
    "    N,M = pattern.shape\n",
    "    normal = findreflection(pattern)\n",
    "    excluded = (normal,normal//100) #Dumb indices hack\n",
    "    for y in range(N):\n",
    "        for x in range(M):\n",
    "            copy = pattern.copy()\n",
    "            copy[y,x] = 1-copy[y,x]\n",
    "            if (res:=findreflection(copy,excluded)): \n",
    "                return res"
   ]
  },
  {
   "cell_type": "code",
   "execution_count": 97,
   "metadata": {},
   "outputs": [
    {
     "data": {
      "text/plain": [
       "42695"
      ]
     },
     "execution_count": 97,
     "metadata": {},
     "output_type": "execute_result"
    }
   ],
   "source": [
    "sum(fixandfind(p) for p in rockpatterns)"
   ]
  }
 ],
 "metadata": {
  "kernelspec": {
   "display_name": "Python 3.11.0",
   "language": "python",
   "name": "python3"
  },
  "language_info": {
   "codemirror_mode": {
    "name": "ipython",
    "version": 3
   },
   "file_extension": ".py",
   "mimetype": "text/x-python",
   "name": "python",
   "nbconvert_exporter": "python",
   "pygments_lexer": "ipython3",
   "version": "3.11.3"
  },
  "vscode": {
   "interpreter": {
    "hash": "40ccaff05b52072d4f8eabac3df5900fe0a79a9a98d891785a410914ef6bf60b"
   }
  }
 },
 "nbformat": 4,
 "nbformat_minor": 2
}
