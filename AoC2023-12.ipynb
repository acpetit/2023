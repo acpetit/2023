{
 "cells": [
  {
   "cell_type": "code",
   "execution_count": 90,
   "metadata": {},
   "outputs": [],
   "source": [
    "import typing\n",
    "import functools\n",
    "from dataclasses import dataclass\n",
    "from multiprocessing import Pool\n",
    "\n",
    "import re"
   ]
  },
  {
   "cell_type": "code",
   "execution_count": 86,
   "metadata": {},
   "outputs": [],
   "source": [
    "@dataclass\n",
    "class SpringReport:\n",
    "    state : str\n",
    "    damaged : typing.List\n",
    "\n",
    "    @classmethod\n",
    "    def fromrow(cls,row,repeat=1):\n",
    "        state,log = row.split()\n",
    "        return cls(\"?\".join(state for k in range(repeat)),[int(chunk) for chunk in log.split(',')]*repeat)\n",
    "    \n",
    "    def totalnumcombinations(self): #Reality check\n",
    "        return 2**self.state.count(\"?\")\n",
    "    \n",
    "    def dumbcompatiblestates(self):\n",
    "        cnt=0\n",
    "        for s in generatestates(self.state):\n",
    "            if [len(chunk) for chunk in s.split(\".\") if chunk] == self.damaged: cnt+=1\n",
    "        return cnt\n",
    "    \n",
    "    def smartcompatible(self):\n",
    "        return generatecompatiblestates(self.state,self.damaged[:])\n",
    "    \n",
    "    def smartercompatible(self):\n",
    "        return smartercompatiblestates(self.state,tuple(self.damaged[:]))\n",
    "\n",
    "    \n",
    "def generatestates(quantumstate):\n",
    "    if quantumstate.find(\"?\")>=0:\n",
    "        yield from generatestates(quantumstate.replace(\"?\",\".\",1))\n",
    "        yield from generatestates(quantumstate.replace(\"?\",\"#\",1))\n",
    "    else:\n",
    "        yield quantumstate\n",
    "\n",
    "def generatecompatiblestates(quantumstate,damaged):\n",
    "    res = 0\n",
    "\n",
    "    if quantumstate.count(\"?\")==0:\n",
    "        if [len(chunk) for chunk in quantumstate.split(\".\") if chunk] == damaged: return 1\n",
    "        else:  return 0\n",
    "    else:\n",
    "        classical,quantumstate = quantumstate.split(\"?\",1)\n",
    "        classical = classical.split(\".\")\n",
    "        lastdamaged=classical.pop() # To be able to continue the list of damaged vents\n",
    "\n",
    "        classicalreport = [len(chunk) for chunk in classical if chunk]\n",
    "        if len(classicalreport)>len(damaged):  return 0\n",
    "        else: \n",
    "            while classicalreport:\n",
    "                d = damaged.pop(0)\n",
    "                d2 = classicalreport.pop(0)\n",
    "                if (d2 != d):  return 0\n",
    "            res += generatecompatiblestates(lastdamaged+\".\"+quantumstate,damaged[:])\n",
    "            res += generatecompatiblestates(lastdamaged+\"#\"+quantumstate,damaged[:])\n",
    "            return res\n",
    "\n",
    "@functools.cache #magic tool with repeat\n",
    "def smartercompatiblestates(quantumstate,damaged):\n",
    "    res = 0\n",
    "    Nneededdamaged = sum(damaged)\n",
    "    maxdam = max((len(l) for l in re.findall(\"#+\",quantumstate)),default=0) > max(damaged,default=0)\n",
    "    Nqbits = quantumstate.count(\"?\")\n",
    "    Ndamaged = quantumstate.count(\"#\")\n",
    "    if (Ndamaged>Nneededdamaged) or (Ndamaged+Nqbits<Nneededdamaged) or maxdam :  return 0 #Early optimisation\n",
    "    \n",
    "    if Nqbits==0:\n",
    "        return int(tuple([len(chunk) for chunk in quantumstate.split(\".\") if chunk]) == damaged)\n",
    "    else:\n",
    "        loc = quantumstate.find(\"?\",Nqbits//2)\n",
    "    \n",
    "        qsa,qsb = quantumstate[:loc],quantumstate[loc+1:]\n",
    "\n",
    "        for k in range(len(damaged)+1): \n",
    "            a = smartercompatiblestates(qsa,damaged[:k])\n",
    "            if a>0: res += a*smartercompatiblestates(qsb,damaged[k:]) #best idea in the code\n",
    "\n",
    "        qs1 = qsa+\"#\"+qsb\n",
    "        res+= smartercompatiblestates(qs1,damaged)\n",
    "    return res\n",
    "\n",
    "    "
   ]
  },
  {
   "attachments": {},
   "cell_type": "markdown",
   "metadata": {},
   "source": [
    "# Part 1"
   ]
  },
  {
   "cell_type": "code",
   "execution_count": 83,
   "metadata": {},
   "outputs": [],
   "source": [
    "with open(\"input12.txt\") as f:\n",
    "    logs = [SpringReport.fromrow(line) for line in f.read().splitlines()]\n"
   ]
  },
  {
   "cell_type": "code",
   "execution_count": 72,
   "metadata": {},
   "outputs": [
    {
     "name": "stdout",
     "output_type": "stream",
     "text": [
      "Number of combinations: 5028624\n"
     ]
    }
   ],
   "source": [
    "print(f\"Number of combinations: {sum([l.totalnumcombinations() for l in logs])}\")"
   ]
  },
  {
   "cell_type": "code",
   "execution_count": 68,
   "metadata": {},
   "outputs": [
    {
     "name": "stdout",
     "output_type": "stream",
     "text": [
      "Number of compatible combinations: 7732\n",
      "CPU times: user 4.73 s, sys: 53.4 ms, total: 4.78 s\n",
      "Wall time: 4.78 s\n"
     ]
    }
   ],
   "source": [
    "%time print(f\"Number of compatible combinations: {sum([l.dumbcompatiblestates() for l in logs])}\")"
   ]
  },
  {
   "cell_type": "code",
   "execution_count": 73,
   "metadata": {},
   "outputs": [
    {
     "name": "stdout",
     "output_type": "stream",
     "text": [
      "Number of compatible combinations: 7732\n",
      "CPU times: user 125 ms, sys: 2.23 ms, total: 127 ms\n",
      "Wall time: 126 ms\n"
     ]
    }
   ],
   "source": [
    "%time print(f\"Number of compatible combinations: {sum([l.smartcompatible()for l in logs])}\")"
   ]
  },
  {
   "cell_type": "code",
   "execution_count": 84,
   "metadata": {},
   "outputs": [
    {
     "name": "stdout",
     "output_type": "stream",
     "text": [
      "Number of compatible combinations: 7732\n",
      "CPU times: user 465 ms, sys: 7.33 ms, total: 472 ms\n",
      "Wall time: 471 ms\n"
     ]
    }
   ],
   "source": [
    "%time print(f\"Number of compatible combinations: {sum([l.smartercompatible()for l in logs])}\")"
   ]
  },
  {
   "cell_type": "markdown",
   "metadata": {},
   "source": [
    "# Part 2"
   ]
  },
  {
   "cell_type": "code",
   "execution_count": 88,
   "metadata": {},
   "outputs": [],
   "source": [
    "with open(\"input12.txt\") as f:\n",
    "    logs5 = [SpringReport.fromrow(line,repeat=5) for line in f.read().splitlines()]"
   ]
  },
  {
   "cell_type": "code",
   "execution_count": 76,
   "metadata": {},
   "outputs": [],
   "source": [
    "ex = \"\"\"???.### 1,1,3\n",
    ".??..??...?##. 1,1,3\n",
    "?#?#?#?#?#?#?#? 1,3,1,6\n",
    "????.#...#... 4,1,1\n",
    "????.######..#####. 1,6,5\n",
    "?###???????? 3,2,1\n",
    "\"\"\"\n",
    "ex5 = [SpringReport.fromrow(line,repeat=5) for line in ex.splitlines()]\n",
    "ex1 = [SpringReport.fromrow(line,repeat=1) for line in ex.splitlines()]"
   ]
  },
  {
   "cell_type": "code",
   "execution_count": 77,
   "metadata": {},
   "outputs": [
    {
     "name": "stdout",
     "output_type": "stream",
     "text": [
      "Number of combinations: 2313767343144790502270828544\n"
     ]
    }
   ],
   "source": [
    "print(f\"Number of combinations: {sum([l.totalnumcombinations() for l in logs5])}\")"
   ]
  },
  {
   "cell_type": "code",
   "execution_count": 78,
   "metadata": {},
   "outputs": [],
   "source": [
    "from tqdm.auto import tqdm"
   ]
  },
  {
   "cell_type": "code",
   "execution_count": 89,
   "metadata": {},
   "outputs": [
    {
     "data": {
      "application/vnd.jupyter.widget-view+json": {
       "model_id": "8d29ec7eff594ee1a8ddb0a0205e01b9",
       "version_major": 2,
       "version_minor": 0
      },
      "text/plain": [
       "  0%|          | 0/1000 [00:00<?, ?it/s]"
      ]
     },
     "metadata": {},
     "output_type": "display_data"
    },
    {
     "name": "stdout",
     "output_type": "stream",
     "text": [
      "Number of compatible combinations: 4500070301581\n",
      "CPU times: user 23.9 s, sys: 576 ms, total: 24.5 s\n",
      "Wall time: 24.5 s\n"
     ]
    }
   ],
   "source": [
    "%%time \n",
    "res =[]\n",
    "\n",
    "for l in tqdm(logs5):\n",
    "    res.append(l.smartercompatible())\n",
    "print(f\"Number of compatible combinations: {sum(res)}\")"
   ]
  }
 ],
 "metadata": {
  "kernelspec": {
   "display_name": "Python 3.11.0",
   "language": "python",
   "name": "python3"
  },
  "language_info": {
   "codemirror_mode": {
    "name": "ipython",
    "version": 3
   },
   "file_extension": ".py",
   "mimetype": "text/x-python",
   "name": "python",
   "nbconvert_exporter": "python",
   "pygments_lexer": "ipython3",
   "version": "3.11.3"
  },
  "vscode": {
   "interpreter": {
    "hash": "40ccaff05b52072d4f8eabac3df5900fe0a79a9a98d891785a410914ef6bf60b"
   }
  }
 },
 "nbformat": 4,
 "nbformat_minor": 2
}
