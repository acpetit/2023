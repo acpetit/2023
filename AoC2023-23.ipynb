{
 "cells": [
  {
   "cell_type": "code",
   "execution_count": 1,
   "metadata": {},
   "outputs": [],
   "source": [
    "import enum\n",
    "import typing\n",
    "from dataclasses import dataclass,field\n",
    "import numpy as np\n",
    "\n",
    "import tqdm\n",
    "import matplotlib.pyplot as plt\n",
    "%matplotlib inline\n",
    "%config InlineBackend.figure_format = 'retina'\n",
    "import cmasher as cmr\n",
    "\n",
    "import networkx as nx\n",
    "from collections import Counter"
   ]
  },
  {
   "cell_type": "code",
   "execution_count": 137,
   "metadata": {},
   "outputs": [],
   "source": [
    "exstr = \"\"\"#.#####################\n",
    "#.......#########...###\n",
    "#######.#########.#.###\n",
    "###.....#.>.>.###.#.###\n",
    "###v#####.#v#.###.#.###\n",
    "###.>...#.#.#.....#...#\n",
    "###v###.#.#.#########.#\n",
    "###...#.#.#.......#...#\n",
    "#####.#.#.#######.#.###\n",
    "#.....#.#.#.......#...#\n",
    "#.#####.#.#.#########v#\n",
    "#.#...#...#...###...>.#\n",
    "#.#.#v#######v###.###v#\n",
    "#...#.>.#...>.>.#.###.#\n",
    "#####v#.#.###v#.#.###.#\n",
    "#.....#...#...#.#.#...#\n",
    "#.#########.###.#.#.###\n",
    "#...###...#...#...#.###\n",
    "###.###.#.###v#####v###\n",
    "#...#...#.#.>.>.#.>.###\n",
    "#.###.###.#.###.#.#v###\n",
    "#.....###...###...#...#\n",
    "#####################.#\n",
    "\"\"\"\n",
    "\n",
    "exmap = [line for line in exstr.splitlines()]\n",
    "exstart = (0,1)\n",
    "exend = (len(exmap)-1,len(exmap[0])-2)\n",
    "\n",
    "exendpoints = {exstart,exend}"
   ]
  },
  {
   "cell_type": "code",
   "execution_count": 138,
   "metadata": {},
   "outputs": [],
   "source": [
    "with open(\"input23.txt\") as f:\n",
    "    labymap = [line for line in f.read().splitlines()]\n",
    "N = len(labymap)\n",
    "M = len(labymap[0])"
   ]
  },
  {
   "cell_type": "code",
   "execution_count": 139,
   "metadata": {},
   "outputs": [],
   "source": [
    "start = (0,1)\n",
    "end = (N-1,M-2)\n",
    "\n",
    "endpoints = {start,end}"
   ]
  },
  {
   "attachments": {},
   "cell_type": "markdown",
   "metadata": {},
   "source": [
    "# Part 1"
   ]
  },
  {
   "cell_type": "code",
   "execution_count": 172,
   "metadata": {},
   "outputs": [],
   "source": [
    "directions = {(1,0):\"v\",(-1,0):\"^\",(0,1):\">\",(0,-1):\"<\"}\n",
    "\n",
    "def notwallneighbours(y,x,labyrinth):\n",
    "    paths = set()\n",
    "    for (dy,dx),slope in directions.items():\n",
    "        try:\n",
    "            if labyrinth[y+dy][x+dx]!= \"#\":\n",
    "                paths.add((y+dy,x+dx))\n",
    "        except IndexError: pass\n",
    "    return paths\n",
    "\n",
    "def directneighbours(y,x,labyrinth):\n",
    "    paths = set()\n",
    "    for (dy,dx),slope in directions.items():\n",
    "        try:\n",
    "            if labyrinth[y+dy][x+dx] in (\".\",slope):\n",
    "                paths.add((y+dy,x+dx))\n",
    "        except IndexError: pass\n",
    "    return paths\n",
    "\n",
    "def searchneighbours(y,x,labyrinth,start,end,slippery=True):\n",
    "    longdistanceneighbours = {}\n",
    "    used = set()\n",
    "    if slippery:\n",
    "        trailheads = directneighbours\n",
    "    else:\n",
    "        trailheads = notwallneighbours\n",
    "    for dn in trailheads(y,x,labyrinth):\n",
    "        if dn not in used:\n",
    "            path = {(y,x),dn}\n",
    "            avantgarde = dn\n",
    "            while nextnodes:=notwallneighbours(*avantgarde,labyrinth)-(path|used):\n",
    "                # print(avantgarde,nextnodes)\n",
    "                if (start in nextnodes) or (end in nextnodes):\n",
    "                    avantgarde = nextnodes.pop()\n",
    "                    longdistanceneighbours[avantgarde]= {\"weight\":len(path)}\n",
    "                elif len(nextnodes)>1: #new node\n",
    "                    longdistanceneighbours[avantgarde]= {\"weight\":len(path)-1}\n",
    "                    break\n",
    "                else:\n",
    "                    avantgarde = nextnodes.pop()\n",
    "                    path.add(avantgarde)\n",
    "            used.add(dn)\n",
    "    return longdistanceneighbours\n",
    "\n",
    "def buildgraph(labyrinth,start,end,slippery=True):\n",
    "    N = len(labyrinth)\n",
    "    M = len(labyrinth[0])\n",
    "    graph = {}\n",
    "    graph[start] = searchneighbours(*start,labyrinth,start,end,slippery)\n",
    "    graph[end] = searchneighbours(*end,labyrinth,start,end,slippery)\n",
    "    for y in range(1,N-1):\n",
    "        for x in range(1,M-1):\n",
    "            if len(notwallneighbours(y,x,labyrinth))>2:\n",
    "                graph[(y,x)] = searchneighbours(y,x,labyrinth,start,end,slippery)\n",
    "    return nx.DiGraph(graph)\n"
   ]
  },
  {
   "cell_type": "code",
   "execution_count": 173,
   "metadata": {},
   "outputs": [],
   "source": [
    "exgraph = buildgraph(exmap,exstart,exend,slippery=True)"
   ]
  },
  {
   "cell_type": "code",
   "execution_count": 174,
   "metadata": {},
   "outputs": [
    {
     "data": {
      "text/plain": [
       "[74, 82, 82, 86, 90, 94]"
      ]
     },
     "execution_count": 174,
     "metadata": {},
     "output_type": "execute_result"
    }
   ],
   "source": [
    "sorted([nx.path_weight(exgraph,p,\"weight\") for p in nx.all_simple_paths(exgraph,exstart,exend)])"
   ]
  },
  {
   "cell_type": "code",
   "execution_count": 175,
   "metadata": {},
   "outputs": [],
   "source": [
    "labygraph = buildgraph(labymap,start,end,slippery=True)"
   ]
  },
  {
   "cell_type": "code",
   "execution_count": 176,
   "metadata": {},
   "outputs": [
    {
     "data": {
      "text/plain": [
       "2174"
      ]
     },
     "execution_count": 176,
     "metadata": {},
     "output_type": "execute_result"
    }
   ],
   "source": [
    "max([nx.path_weight(labygraph,p,\"weight\") for p in nx.all_simple_paths(labygraph,start,end)])"
   ]
  },
  {
   "cell_type": "markdown",
   "metadata": {},
   "source": [
    "# Part 2"
   ]
  },
  {
   "cell_type": "code",
   "execution_count": 178,
   "metadata": {},
   "outputs": [],
   "source": [
    "labygraph2 = buildgraph(labymap,start,end,slippery=False)\n",
    "exgraph2 = buildgraph(exmap,exstart,exend,slippery=False)"
   ]
  },
  {
   "cell_type": "code",
   "execution_count": 179,
   "metadata": {},
   "outputs": [
    {
     "data": {
      "text/plain": [
       "[74, 82, 82, 86, 90, 94, 110, 118, 118, 126, 150, 154]"
      ]
     },
     "execution_count": 179,
     "metadata": {},
     "output_type": "execute_result"
    }
   ],
   "source": [
    "sorted([nx.path_weight(exgraph2,p,\"weight\") for p in nx.all_simple_paths(exgraph2,exstart,exend)])"
   ]
  },
  {
   "cell_type": "code",
   "execution_count": 180,
   "metadata": {},
   "outputs": [
    {
     "data": {
      "text/plain": [
       "6506"
      ]
     },
     "execution_count": 180,
     "metadata": {},
     "output_type": "execute_result"
    }
   ],
   "source": [
    "max([nx.path_weight(labygraph2,p,\"weight\") for p in nx.all_simple_paths(labygraph2,start,end)])"
   ]
  }
 ],
 "metadata": {
  "kernelspec": {
   "display_name": "Python 3.11.0",
   "language": "python",
   "name": "python3"
  },
  "language_info": {
   "codemirror_mode": {
    "name": "ipython",
    "version": 3
   },
   "file_extension": ".py",
   "mimetype": "text/x-python",
   "name": "python",
   "nbconvert_exporter": "python",
   "pygments_lexer": "ipython3",
   "version": "3.11.3"
  },
  "vscode": {
   "interpreter": {
    "hash": "40ccaff05b52072d4f8eabac3df5900fe0a79a9a98d891785a410914ef6bf60b"
   }
  }
 },
 "nbformat": 4,
 "nbformat_minor": 2
}
