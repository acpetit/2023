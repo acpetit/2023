{
 "cells": [
  {
   "cell_type": "code",
   "execution_count": 21,
   "metadata": {},
   "outputs": [],
   "source": [
    "import pandas as pd\n",
    "import numpy as np\n"
   ]
  },
  {
   "cell_type": "code",
   "execution_count": 30,
   "metadata": {},
   "outputs": [],
   "source": [
    "exs = [[int(c) for c in line.split()] for line in  \"\"\"0 3 6 9 12 15\n",
    "1 3 6 10 15 21\n",
    "10 13 16 21 30 45\"\"\".splitlines()]"
   ]
  },
  {
   "cell_type": "code",
   "execution_count": 35,
   "metadata": {},
   "outputs": [],
   "source": [
    "timeseries = np.array(pd.read_csv(\"input9.txt\",delim_whitespace=True,header=None,))\n",
    "lents = timeseries.shape[1]"
   ]
  },
  {
   "attachments": {},
   "cell_type": "markdown",
   "metadata": {},
   "source": [
    "# Part 1"
   ]
  },
  {
   "cell_type": "code",
   "execution_count": 158,
   "metadata": {},
   "outputs": [],
   "source": [
    "def iteratepolynomialforward(ts):\n",
    "    N = len(ts)\n",
    "    coefs = np.zeros(N,dtype=int)\n",
    "    deriv = ts\n",
    "    for k in range(N-1,-1,-1):\n",
    "        coefs[k] = deriv[-1]\n",
    "        deriv = np.diff(deriv)\n",
    "\n",
    "    coefs = np.cumsum(coefs)\n",
    "    return coefs[-1]"
   ]
  },
  {
   "cell_type": "code",
   "execution_count": 157,
   "metadata": {},
   "outputs": [
    {
     "name": "stdout",
     "output_type": "stream",
     "text": [
      "Sum of next values: 2175229206\n"
     ]
    }
   ],
   "source": [
    "print(f\"Sum of next values: {sum([iteratepolynomialforward(ts) for ts in timeseries])}\")"
   ]
  },
  {
   "cell_type": "markdown",
   "metadata": {},
   "source": [
    "# Part 2"
   ]
  },
  {
   "cell_type": "code",
   "execution_count": 165,
   "metadata": {},
   "outputs": [],
   "source": [
    "def iteratepolynomialbackward(ts):\n",
    "    N = len(ts)\n",
    "    coefs = np.zeros(N,dtype=int)\n",
    "    deriv = ts\n",
    "    for k in range(N-1,-1,-1):\n",
    "        coefs[k] = deriv[0]\n",
    "        deriv = np.diff(deriv)\n",
    "    res = 0\n",
    "    for c in coefs:\n",
    "        res = c-res\n",
    "    return res"
   ]
  },
  {
   "cell_type": "code",
   "execution_count": 166,
   "metadata": {},
   "outputs": [
    {
     "name": "stdout",
     "output_type": "stream",
     "text": [
      "Sum of previous values: 942\n"
     ]
    }
   ],
   "source": [
    "print(f\"Sum of previous values: {sum([iteratepolynomialbackward(ts) for ts in timeseries])}\")"
   ]
  }
 ],
 "metadata": {
  "kernelspec": {
   "display_name": "Python 3.11.0",
   "language": "python",
   "name": "python3"
  },
  "language_info": {
   "codemirror_mode": {
    "name": "ipython",
    "version": 3
   },
   "file_extension": ".py",
   "mimetype": "text/x-python",
   "name": "python",
   "nbconvert_exporter": "python",
   "pygments_lexer": "ipython3",
   "version": "3.11.3"
  },
  "vscode": {
   "interpreter": {
    "hash": "40ccaff05b52072d4f8eabac3df5900fe0a79a9a98d891785a410914ef6bf60b"
   }
  }
 },
 "nbformat": 4,
 "nbformat_minor": 2
}
