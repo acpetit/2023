{
 "cells": [
  {
   "cell_type": "code",
   "execution_count": 1,
   "metadata": {},
   "outputs": [],
   "source": [
    "import re"
   ]
  },
  {
   "attachments": {},
   "cell_type": "markdown",
   "metadata": {},
   "source": [
    "# Part 1"
   ]
  },
  {
   "cell_type": "code",
   "execution_count": 2,
   "metadata": {},
   "outputs": [],
   "source": [
    "def parseinput(filename,ruleparser):\n",
    "    register = {}\n",
    "    pieces = []\n",
    "    with open(filename) as f:\n",
    "        for line in f:\n",
    "            if line==\"\\n\": break\n",
    "            parseworflow(line.rstrip(),register,ruleparser)\n",
    "        for line in f:\n",
    "            pieces.append(parsepiece(line.rstrip()))\n",
    "    return register,pieces\n",
    "\n",
    "def parseworflow(wf,register,ruleparser):\n",
    "    name, rules = re.search(\"(.*)\\{(.*)\\}\",wf).groups()\n",
    "    register[name]= [ruleparser(r) for r in rules.split(\",\")]\n",
    "\n",
    "def parserulesingle(rule):\n",
    "    if re.match(\"^[a-zAR]*$\",rule):\n",
    "        return lambda piece: (True,rule)\n",
    "    else:\n",
    "        _, category, lgtr, value, nextworkflow =  re.search(\"((\\w)(<|>)(\\d+):(.+))\",rule).groups()\n",
    "        if lgtr ==\"<\":\n",
    "            return lambda piece : ((piece[category] < int(value)),nextworkflow)\n",
    "        else:\n",
    "            return lambda piece : ((piece[category] > int(value)),nextworkflow)\n",
    "\n",
    "\n",
    "def pairwise(iterable):\n",
    "    \"s -> (s0, s1), (s2, s3), (s4, s5), ...\"\n",
    "    a = iter(iterable)\n",
    "    return zip(a, a)\n",
    "\n",
    "def parsepiece(piece):\n",
    "    xmas =re.search(\"\\{(.)=(\\d+),(.)=(\\d+),(.)=(\\d+),(.)=(\\d+)\\}\",piece).groups()\n",
    "    return {k:int(v) for k,v in pairwise(xmas)}\n",
    "\n",
    "def piecerating(piece):\n",
    "    return sum(piece.values())"
   ]
  },
  {
   "cell_type": "code",
   "execution_count": 3,
   "metadata": {},
   "outputs": [],
   "source": [
    "register, pieces = parseinput(\"input19.txt\",parserulesingle)"
   ]
  },
  {
   "cell_type": "code",
   "execution_count": 4,
   "metadata": {},
   "outputs": [],
   "source": [
    "def processpieces(pieces,register):\n",
    "    ratesum = 0\n",
    "    for piece in pieces:\n",
    "        curworkflow = \"in\"\n",
    "        while curworkflow in register:\n",
    "            curworkflow = useworkflow(piece, register[curworkflow])\n",
    "        if curworkflow==\"A\" : ratesum += piecerating(piece)\n",
    "    return ratesum\n",
    "\n",
    "def useworkflow(piece,workflow):\n",
    "    for rule in workflow:\n",
    "        res, todo = rule(piece)\n",
    "        if res:\n",
    "            return todo\n"
   ]
  },
  {
   "cell_type": "code",
   "execution_count": 5,
   "metadata": {},
   "outputs": [
    {
     "data": {
      "text/plain": [
       "362930"
      ]
     },
     "execution_count": 5,
     "metadata": {},
     "output_type": "execute_result"
    }
   ],
   "source": [
    "processpieces(pieces,register)"
   ]
  },
  {
   "cell_type": "markdown",
   "metadata": {},
   "source": [
    "# Part 2"
   ]
  },
  {
   "cell_type": "code",
   "execution_count": 6,
   "metadata": {},
   "outputs": [],
   "source": [
    "def parserulesrange(rule):\n",
    "    if re.match(\"^[a-zAR]*$\",rule):\n",
    "        return None,rule\n",
    "    else:\n",
    "        _, category, lgtr, value, nextworkflow =  re.search(\"((\\w)(<|>)(\\d+):(.+))\",rule).groups()\n",
    "        return (category,lgtr,int(value)),nextworkflow\n",
    "\n",
    "def ratevolume(volume):\n",
    "    vol = findvolume(volume)\n",
    "    oneDres = {k:(x[1]+x[0]-1)for k,x in volume.items()}\n",
    "    rate = 0\n",
    "    for d in oneDres.values(): rate += (vol*d)//2\n",
    "    return rate\n",
    "\n",
    "def findvolume(volume):\n",
    "    deltas = {k:max((x[1]-x[0]),0) for k,x in volume.items()}\n",
    "    vol =1\n",
    "    for v in deltas.values(): vol *=v\n",
    "    if vol==0: print(volume)\n",
    "    return vol\n",
    "\n",
    "def processvolume(volume,workflow,register):\n",
    "    ratesum = 0\n",
    "    if workflow==\"A\": \n",
    "        return findvolume(volume)\n",
    "    elif workflow==\"R\" or findvolume(volume)==0: return 0\n",
    "\n",
    "    for rule,destination in register[workflow]:\n",
    "        if rule is None:\n",
    "            match destination:\n",
    "                case \"A\":\n",
    "                    ratesum+= findvolume(volume)\n",
    "                case \"R\":\n",
    "                    pass\n",
    "                case _:\n",
    "                    ratesum+= processvolume(volume,destination,register)\n",
    "        else:\n",
    "            category,lgtr,value = rule\n",
    "            voldown = volume.copy()\n",
    "            volup = volume.copy()\n",
    "            mX,MX = volume[category]\n",
    "            voldown[category] = (mX,value)\n",
    "            volup[category] = (value,MX)\n",
    "            if lgtr ==\"<\":\n",
    "                if  MX<=value:\n",
    "                    ratesum += processvolume(volume.copy(),destination,register)\n",
    "                    break\n",
    "                elif mX<value:\n",
    "                    voldown[category] = (mX,value)\n",
    "                    volup[category] = (value,MX)\n",
    "                    volume[category] =  volup[category]\n",
    "                    ratesum += processvolume(voldown,destination,register)\n",
    "                #Last case is continuing the list of instructions\n",
    "            else:\n",
    "                if mX>=value+1:\n",
    "                    ratesum += processvolume(volume.copy(),destination,register)\n",
    "                    break\n",
    "                elif MX>value+1:\n",
    "                    voldown[category] = (mX,value+1)\n",
    "                    volup[category] = (value+1,MX)\n",
    "\n",
    "                    volume[category] =  voldown[category]\n",
    "                    ratesum += processvolume(volup,destination,register)\n",
    "                #Last case is continuing the list of instructions\n",
    "    return ratesum\n"
   ]
  },
  {
   "cell_type": "code",
   "execution_count": 7,
   "metadata": {},
   "outputs": [
    {
     "data": {
      "text/plain": [
       "116365820987729"
      ]
     },
     "execution_count": 7,
     "metadata": {},
     "output_type": "execute_result"
    }
   ],
   "source": [
    "Allvols =[]\n",
    "inivol = {k:(1,4001) for k in \"xmas\"}\n",
    "registerrange,piecex = parseinput(\"input19.txt\",parserulesrange)\n",
    "processvolume(inivol,\"in\",registerrange)"
   ]
  },
  {
   "cell_type": "code",
   "execution_count": 8,
   "metadata": {},
   "outputs": [
    {
     "data": {
      "text/plain": [
       "0.45409971819933975"
      ]
     },
     "execution_count": 8,
     "metadata": {},
     "output_type": "execute_result"
    }
   ],
   "source": [
    "116365820987729/4001**4"
   ]
  }
 ],
 "metadata": {
  "kernelspec": {
   "display_name": "Python 3.11.0",
   "language": "python",
   "name": "python3"
  },
  "language_info": {
   "codemirror_mode": {
    "name": "ipython",
    "version": 3
   },
   "file_extension": ".py",
   "mimetype": "text/x-python",
   "name": "python",
   "nbconvert_exporter": "python",
   "pygments_lexer": "ipython3",
   "version": "3.11.3"
  },
  "vscode": {
   "interpreter": {
    "hash": "40ccaff05b52072d4f8eabac3df5900fe0a79a9a98d891785a410914ef6bf60b"
   }
  }
 },
 "nbformat": 4,
 "nbformat_minor": 2
}
