{
 "cells": [
  {
   "cell_type": "code",
   "execution_count": 87,
   "metadata": {},
   "outputs": [],
   "source": [
    "import re\n",
    "from dataclasses import dataclass\n",
    "import numpy as np\n"
   ]
  },
  {
   "cell_type": "code",
   "execution_count": 88,
   "metadata": {},
   "outputs": [],
   "source": [
    "@dataclass\n",
    "class Card:\n",
    "    id : int\n",
    "    winning : np.array\n",
    "    obtained : np.array\n",
    "    copies : int=1\n",
    "\n",
    "    def fromstring(line):\n",
    "        lineprocessed = re.match(\"Card\\s+(\\d+):\\s+(.+)\\s+\\|\\s+(.+)\\n\",line)\n",
    "        winning = np.array([int(num) for num in lineprocessed.group(2).split()])\n",
    "        obtained = np.array([int(num) for num in lineprocessed.group(3).split()])\n",
    "        return Card(int(lineprocessed.group(1)),winning,obtained)\n",
    "    \n",
    "    def numberofmatchingnumbers(self):\n",
    "        return np.sum(np.isin(self.obtained,self.winning))\n",
    "    def elfscore(self):\n",
    "        matching = self.numberofmatchingnumbers()\n",
    "        if matching>0: return 2**(matching-1)\n",
    "        else: return 0\n",
    "\n"
   ]
  },
  {
   "attachments": {},
   "cell_type": "markdown",
   "metadata": {},
   "source": [
    "# Part 1"
   ]
  },
  {
   "cell_type": "code",
   "execution_count": 89,
   "metadata": {},
   "outputs": [
    {
     "name": "stdout",
     "output_type": "stream",
     "text": [
      "Result of part 1 with the elf scoring system: 27059\n"
     ]
    }
   ],
   "source": [
    "with open(\"input4.txt\") as f:\n",
    "    cards = [Card.fromstring(line) for line in f]\n",
    "print(f\"Result of part 1 with the elf scoring system: {sum(c.elfscore() for c in cards)}\")"
   ]
  },
  {
   "cell_type": "markdown",
   "metadata": {},
   "source": [
    "# Part 2"
   ]
  },
  {
   "cell_type": "code",
   "execution_count": 90,
   "metadata": {},
   "outputs": [
    {
     "name": "stdout",
     "output_type": "stream",
     "text": [
      "Total number of scratchcards: 30\n"
     ]
    }
   ],
   "source": [
    "ex4 = \"\"\"Card 1: 41 48 83 86 17 | 83 86  6 31 17  9 48 53\n",
    "Card 2: 13 32 20 16 61 | 61 30 68 82 17 32 24 19\n",
    "Card 3:  1 21 53 59 44 | 69 82 63 72 16 21 14  1\n",
    "Card 4: 41 92 73 84 69 | 59 84 76 51 58  5 54 83\n",
    "Card 5: 87 83 26 28 32 | 88 30 70 12 93 22 82 36\n",
    "Card 6: 31 18 13 56 72 | 74 77 10 23 35 67 36 11\"\"\".splitlines()\n",
    "excards = [Card.fromstring(l+\"\\n\") for l in ex4]\n",
    "\n",
    "for k,card in enumerate(excards):\n",
    "    newcopies = card.numberofmatchingnumbers()\n",
    "    # print(card.id, newcopies,card.copies)\n",
    "    for j in range(k+1,k+1+newcopies):\n",
    "        # print(j,cards[j].copies)\n",
    "        excards[j].copies += card.copies\n",
    "        # print(j,cards[j].copies)\n",
    "\n",
    "print(f\"Total number of scratchcards: {sum(c.copies for c in excards)}\")"
   ]
  },
  {
   "cell_type": "code",
   "execution_count": 91,
   "metadata": {},
   "outputs": [
    {
     "name": "stdout",
     "output_type": "stream",
     "text": [
      "Total number of scratchcards: 5744979\n"
     ]
    }
   ],
   "source": [
    "with open(\"input4.txt\") as f:\n",
    "    cards = [Card.fromstring(line) for line in f]\n",
    "for k,card in enumerate(cards):\n",
    "    newcopies = card.numberofmatchingnumbers()\n",
    "    for j in range(k+1,k+1+newcopies):\n",
    "        cards[j].copies += card.copies\n",
    "print(f\"Total number of scratchcards: {sum(c.copies for c in cards)}\")"
   ]
  }
 ],
 "metadata": {
  "kernelspec": {
   "display_name": "Python 3.11.0",
   "language": "python",
   "name": "python3"
  },
  "language_info": {
   "codemirror_mode": {
    "name": "ipython",
    "version": 3
   },
   "file_extension": ".py",
   "mimetype": "text/x-python",
   "name": "python",
   "nbconvert_exporter": "python",
   "pygments_lexer": "ipython3",
   "version": "3.11.3"
  },
  "vscode": {
   "interpreter": {
    "hash": "40ccaff05b52072d4f8eabac3df5900fe0a79a9a98d891785a410914ef6bf60b"
   }
  }
 },
 "nbformat": 4,
 "nbformat_minor": 2
}
