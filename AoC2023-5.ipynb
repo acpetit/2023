{
 "cells": [
  {
   "cell_type": "code",
   "execution_count": 2,
   "metadata": {},
   "outputs": [],
   "source": [
    "import re\n",
    "from dataclasses import dataclass\n",
    "\n",
    "import typing\n"
   ]
  },
  {
   "cell_type": "code",
   "execution_count": 61,
   "metadata": {},
   "outputs": [],
   "source": [
    "@dataclass\n",
    "class Almanach:\n",
    "    ingredients : typing.Dict\n",
    "    mappings : typing.Dict\n",
    "\n",
    "    @classmethod\n",
    "    def fromfilename(cls,filename):\n",
    "        with open(filename) as f:\n",
    "            chunks = f.read().split(\"\\n\\n\")\n",
    "            seeds  = cls._getseeds(chunks.pop(0))\n",
    "            \n",
    "            mappings = {}\n",
    "            for chunk in chunks:\n",
    "                _map = AlmanachMap.from_almanach_chunk(chunk)\n",
    "                mappings[_map.source] =  _map\n",
    "            return cls({\"seed\":seeds},mappings)\n",
    "\n",
    "    @classmethod\n",
    "    def _getseeds(cls,line):\n",
    "        return [int(id) for id in line.split()[1:]]\n",
    "\n",
    "    def fill_ingredients(self):\n",
    "        source = \"seed\"\n",
    "        while source != \"location\":\n",
    "            mapping = self.mappings[source]\n",
    "            sourceid = self.ingredients[source]\n",
    "            destid = [mapping.map_single_id(id) for id in sourceid]\n",
    "            self.ingredients[source:=mapping.destination] = destid\n",
    "\n",
    "\n",
    "@dataclass\n",
    "class RangeAlmanach(Almanach):\n",
    "\n",
    "    @classmethod\n",
    "    def _getseeds(cls,line):\n",
    "        seeds = iter(line.split()[1:])\n",
    "        return [(int(id),int(ran)) for id,ran in zip(seeds,seeds)]\n",
    "    \n",
    "    def fill_ingredients(self):\n",
    "        source = \"seed\"\n",
    "        while source != \"location\":\n",
    "            mapping = self.mappings[source]\n",
    "            sources= self.ingredients[source]\n",
    "\n",
    "            destid =mapping.map_ranges(sources)\n",
    "\n",
    "            self.ingredients[source:=mapping.destination] = destid\n",
    "\n",
    "\n",
    "@dataclass\n",
    "class AlmanachMap:\n",
    "    source : str\n",
    "    destination : str\n",
    "    ranges : typing.Iterable\n",
    "\n",
    "    def from_almanach_chunk(chunk):\n",
    "        chunksplitted = chunk.splitlines()\n",
    "        metadata = re.match(\"(.+)-to-(.+) map:\",chunksplitted.pop(0))\n",
    "        ranges = [[int(n) for n in line.split()] for line in chunksplitted]\n",
    "        return AlmanachMap(metadata.group(1),metadata.group(2),ranges)\n",
    "    \n",
    "    def map_single_id(self,sourceid):\n",
    "        for (deststart, sourcestart, rangelength) in self.ranges:\n",
    "            delta = sourceid-sourcestart\n",
    "            if delta>=0 and delta<rangelength:\n",
    "                return deststart+delta\n",
    "        return sourceid\n",
    "    \n",
    "    def map_ranges(self,sourceranges):\n",
    "        tomap = sourceranges.copy()\n",
    "        newranges = []\n",
    "        while tomap:\n",
    "            mapped = False\n",
    "            (sourceid,sourcerange) = tomap.pop()\n",
    "            for (deststart, sourcestart, delta) in self.ranges:\n",
    "                low,high = max(sourceid,sourcestart),min(sourceid+sourcerange,sourcestart+delta)\n",
    "                newdelta = high-low\n",
    "                if newdelta>0:\n",
    "                    mapped=True\n",
    "                    offset = low-sourcestart\n",
    "                    newranges.append((deststart+offset,newdelta))\n",
    "                    if sourceid<sourcestart:\n",
    "                        tomap.append((sourceid,sourcestart-sourceid))\n",
    "                    if high<sourceid+sourcerange:\n",
    "                        tomap.append((high,sourceid+sourcerange-high))\n",
    "                    break\n",
    "            if not mapped:\n",
    "                newranges.append((sourceid,sourcerange))\n",
    "        return newranges\n",
    "    \n",
    "\n",
    "\n",
    "\n",
    "\n",
    "\n",
    "    "
   ]
  },
  {
   "attachments": {},
   "cell_type": "markdown",
   "metadata": {},
   "source": [
    "# Part 1"
   ]
  },
  {
   "cell_type": "code",
   "execution_count": 57,
   "metadata": {},
   "outputs": [
    {
     "name": "stdout",
     "output_type": "stream",
     "text": [
      "Smallest location: 486613012\n"
     ]
    }
   ],
   "source": [
    "almanach = Almanach.fromfilename(\"input5.txt\")\n",
    "almanach.fill_ingredients()\n",
    "\n",
    "print(f\"Smallest location: {min(almanach.ingredients['location'])}\")"
   ]
  },
  {
   "cell_type": "markdown",
   "metadata": {},
   "source": [
    "# Part 2"
   ]
  },
  {
   "cell_type": "code",
   "execution_count": 63,
   "metadata": {},
   "outputs": [
    {
     "name": "stdout",
     "output_type": "stream",
     "text": [
      "Smallest location: 56931769\n"
     ]
    }
   ],
   "source": [
    "almanach = RangeAlmanach.fromfilename(\"input5.txt\")\n",
    "almanach.fill_ingredients()\n",
    "\n",
    "print(f\"Smallest location: {min(almanach.ingredients['location'])[0]}\")"
   ]
  }
 ],
 "metadata": {
  "kernelspec": {
   "display_name": "Python 3.11.0",
   "language": "python",
   "name": "python3"
  },
  "language_info": {
   "codemirror_mode": {
    "name": "ipython",
    "version": 3
   },
   "file_extension": ".py",
   "mimetype": "text/x-python",
   "name": "python",
   "nbconvert_exporter": "python",
   "pygments_lexer": "ipython3",
   "version": "3.11.3"
  },
  "vscode": {
   "interpreter": {
    "hash": "40ccaff05b52072d4f8eabac3df5900fe0a79a9a98d891785a410914ef6bf60b"
   }
  }
 },
 "nbformat": 4,
 "nbformat_minor": 2
}
