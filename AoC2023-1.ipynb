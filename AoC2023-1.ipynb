{
 "cells": [
  {
   "attachments": {},
   "cell_type": "markdown",
   "metadata": {},
   "source": [
    "# Part 1"
   ]
  },
  {
   "cell_type": "code",
   "execution_count": null,
   "metadata": {},
   "outputs": [],
   "source": [
    "def findfirstdigit(l):\n",
    "    for c in l:\n",
    "        try:\n",
    "            return int(c)\n",
    "        except ValueError:\n",
    "            pass"
   ]
  },
  {
   "cell_type": "code",
   "execution_count": 28,
   "metadata": {},
   "outputs": [
    {
     "data": {
      "text/plain": [
       "54388"
      ]
     },
     "execution_count": 28,
     "metadata": {},
     "output_type": "execute_result"
    }
   ],
   "source": [
    "calibration = 0\n",
    "\n",
    "with open(\"input1.txt\") as f:\n",
    "    for l in f:\n",
    "        calibration += 10*finddigit(l)+finddigit(l[::-1])\n",
    "calibration"
   ]
  },
  {
   "cell_type": "markdown",
   "metadata": {},
   "source": [
    "# Part 2"
   ]
  },
  {
   "cell_type": "code",
   "execution_count": 52,
   "metadata": {},
   "outputs": [],
   "source": [
    "digits = [\"one\", \"two\", \"three\", \"four\", \"five\", \"six\", \"seven\", \"eight\", \"nine\"]\n",
    "stigid = [d[::-1] for d in digits]"
   ]
  },
  {
   "cell_type": "code",
   "execution_count": 53,
   "metadata": {},
   "outputs": [],
   "source": [
    "def cleanline(l,digitslist):\n",
    "    cleanl = l\n",
    "    firstdigit = 1000\n",
    "    for value,digit in enumerate(digitslist,start=1):\n",
    "        pos = l.find(digit)\n",
    "        if pos>=0 and pos<firstdigit:\n",
    "            firstdigit = pos\n",
    "            cleanl = l.replace(digit,str(value))\n",
    "    return cleanl"
   ]
  },
  {
   "cell_type": "code",
   "execution_count": null,
   "metadata": {},
   "outputs": [
    {
     "data": {
      "text/plain": [
       "281"
      ]
     },
     "metadata": {},
     "output_type": "display_data"
    }
   ],
   "source": [
    "cleancalibration = 0\n",
    "\n",
    "with open(\"ex1.txt\") as f:\n",
    "    for l in f:\n",
    "        cl = cleanline(l,digits)\n",
    "        clreversed = cleanline(l[::-1],stigid)\n",
    "        cleancalibration += 10*finddigit(cl)+finddigit(clreversed)\n",
    "cleancalibration"
   ]
  },
  {
   "cell_type": "code",
   "execution_count": 54,
   "metadata": {},
   "outputs": [
    {
     "data": {
      "text/plain": [
       "53515"
      ]
     },
     "execution_count": 54,
     "metadata": {},
     "output_type": "execute_result"
    }
   ],
   "source": [
    "cleancalibration = 0\n",
    "with open(\"input1.txt\") as f:\n",
    "    for l in f:\n",
    "        cl = cleanline(l,digits)\n",
    "        clreversed = cleanline(l[::-1],stigid)\n",
    "        cleancalibration += 10*findfirstdigit(cl)+findfirstdigit(clreversed)\n",
    "cleancalibration"
   ]
  }
 ],
 "metadata": {
  "kernelspec": {
   "display_name": "Python 3.11.0",
   "language": "python",
   "name": "python3"
  },
  "language_info": {
   "codemirror_mode": {
    "name": "ipython",
    "version": 3
   },
   "file_extension": ".py",
   "mimetype": "text/x-python",
   "name": "python",
   "nbconvert_exporter": "python",
   "pygments_lexer": "ipython3",
   "version": "3.11.3"
  },
  "vscode": {
   "interpreter": {
    "hash": "40ccaff05b52072d4f8eabac3df5900fe0a79a9a98d891785a410914ef6bf60b"
   }
  }
 },
 "nbformat": 4,
 "nbformat_minor": 2
}
