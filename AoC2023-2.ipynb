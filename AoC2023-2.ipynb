{
 "cells": [
  {
   "cell_type": "code",
   "execution_count": 45,
   "metadata": {},
   "outputs": [],
   "source": [
    "from collections import defaultdict"
   ]
  },
  {
   "cell_type": "code",
   "execution_count": 51,
   "metadata": {},
   "outputs": [],
   "source": [
    "def processgame(gamestring):\n",
    "    game = []\n",
    "    for roundstr in gamestring.split(\"; \"):\n",
    "        numcols = (col.split(\" \") for col in roundstr.split(\", \"))\n",
    "        round = defaultdict(lambda :0,{colour:int(number) for number,colour in numcols})\n",
    "        game.append(round)\n",
    "    return game\n",
    "\n",
    "def loadgames(filename):\n",
    "    games = {}\n",
    "    with open(filename) as f:\n",
    "        for line in f:\n",
    "            id,gamestr = line.rstrip().split(\": \")\n",
    "            id = int(id[5:])\n",
    "            games[id] = processgame(gamestr)\n",
    "    return games\n",
    "\n",
    "games = loadgames(\"input2.txt\")"
   ]
  },
  {
   "attachments": {},
   "cell_type": "markdown",
   "metadata": {},
   "source": [
    "# Part 1"
   ]
  },
  {
   "cell_type": "code",
   "execution_count": 47,
   "metadata": {},
   "outputs": [],
   "source": [
    "def possiblegame(game,bag):\n",
    "    for round in game:\n",
    "        for col,maxbag in bag.items():\n",
    "            if round[col]>maxbag: return False\n",
    "    return True "
   ]
  },
  {
   "cell_type": "code",
   "execution_count": 52,
   "metadata": {},
   "outputs": [
    {
     "data": {
      "text/plain": [
       "2528"
      ]
     },
     "execution_count": 52,
     "metadata": {},
     "output_type": "execute_result"
    }
   ],
   "source": [
    "bag = {\"red\":12,\"green\":13,\"blue\":14}\n",
    "\n",
    "sumid = 0\n",
    "for k,game in games.items():\n",
    "    if possiblegame(game,bag): sumid+=k\n",
    "sumid"
   ]
  },
  {
   "cell_type": "markdown",
   "metadata": {},
   "source": [
    "# Part 2"
   ]
  },
  {
   "cell_type": "code",
   "execution_count": 49,
   "metadata": {},
   "outputs": [],
   "source": [
    "def cubesetpower(cubeset):\n",
    "    return cubeset[\"red\"]*cubeset[\"green\"]*cubeset[\"blue\"]\n",
    "\n",
    "def findsmallestbag(game):\n",
    "    smallestbag = defaultdict(lambda :0,)\n",
    "    for round in game:\n",
    "        for col,num in round.items():\n",
    "            smallestbag[col] = max(smallestbag[col],num)\n",
    "    return smallestbag"
   ]
  },
  {
   "cell_type": "code",
   "execution_count": 50,
   "metadata": {},
   "outputs": [
    {
     "data": {
      "text/plain": [
       "67363"
      ]
     },
     "execution_count": 50,
     "metadata": {},
     "output_type": "execute_result"
    }
   ],
   "source": [
    "sumpower = 0\n",
    "for k,game in games.items():\n",
    "    sumpower+=cubesetpower(findsmallestbag(game))\n",
    "sumpower"
   ]
  },
  {
   "cell_type": "code",
   "execution_count": null,
   "metadata": {},
   "outputs": [],
   "source": []
  }
 ],
 "metadata": {
  "kernelspec": {
   "display_name": "Python 3.11.0",
   "language": "python",
   "name": "python3"
  },
  "language_info": {
   "codemirror_mode": {
    "name": "ipython",
    "version": 3
   },
   "file_extension": ".py",
   "mimetype": "text/x-python",
   "name": "python",
   "nbconvert_exporter": "python",
   "pygments_lexer": "ipython3",
   "version": "3.11.3"
  },
  "vscode": {
   "interpreter": {
    "hash": "40ccaff05b52072d4f8eabac3df5900fe0a79a9a98d891785a410914ef6bf60b"
   }
  }
 },
 "nbformat": 4,
 "nbformat_minor": 2
}
